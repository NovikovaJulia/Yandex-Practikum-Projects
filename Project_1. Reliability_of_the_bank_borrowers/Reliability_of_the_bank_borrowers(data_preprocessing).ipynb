{
 "cells": [
  {
   "cell_type": "markdown",
   "metadata": {
    "id": "H7yVSTWVrAz6"
   },
   "source": [
    "## **Исследование надёжности банковских заёмщиков**\n",
    "\n",
    "*Проект для проработки навыка предварительной обработки данных.*\n",
    "\n",
    "Заказчик — кредитный отдел банка. Нужно понять, влияет ли семейное положение и количество детей клиента на факт погашения кредита в срок. Входные данные — статистика о платёжеспособности клиентов.\n",
    "\n",
    "Результаты исследования будут учтены при построении модели кредитного скоринга — системы, оценивающей способность потенциального заёмщика вернуть кредит банку."
   ]
  },
  {
   "cell_type": "markdown",
   "metadata": {
    "id": "IZVsrRm_rAz6"
   },
   "source": [
    "**Описание данных**\n",
    "- children — количество детей в семье\n",
    "- days_employed — общий трудовой стаж в днях\n",
    "- dob_years — возраст клиента в годах\n",
    "- education — уровень образования клиента\n",
    "- education_id — идентификатор уровня образования\n",
    "- family_status — семейное положение\n",
    "- family_status_id — идентификатор семейного положения\n",
    "- gender — пол клиента\n",
    "- income_type — тип занятости\n",
    "- debt — имел ли задолженность по возврату кредитов\n",
    "- total_income — ежемесячный доход\n",
    "- purpose — цель получения кредита\n",
    "     "
   ]
  },
  {
   "cell_type": "markdown",
   "metadata": {
    "id": "46cxxtdirAz7"
   },
   "source": [
    "### **1. Предварительный анализ входных данных**\n"
   ]
  },
  {
   "cell_type": "code",
   "execution_count": 2,
   "metadata": {
    "id": "eOB5xGVoikZf"
   },
   "outputs": [],
   "source": [
    "import pandas as pd"
   ]
  },
  {
   "cell_type": "code",
   "execution_count": 4,
   "metadata": {
    "colab": {
     "base_uri": "https://localhost:8080/",
     "height": 255
    },
    "id": "uE7yHEByrAz7",
    "outputId": "a9a84347-f38c-41a5-cfb2-2ba24225e105"
   },
   "outputs": [
    {
     "data": {
      "text/html": [
       "<div>\n",
       "<style scoped>\n",
       "    .dataframe tbody tr th:only-of-type {\n",
       "        vertical-align: middle;\n",
       "    }\n",
       "\n",
       "    .dataframe tbody tr th {\n",
       "        vertical-align: top;\n",
       "    }\n",
       "\n",
       "    .dataframe thead th {\n",
       "        text-align: right;\n",
       "    }\n",
       "</style>\n",
       "<table border=\"1\" class=\"dataframe\">\n",
       "  <thead>\n",
       "    <tr style=\"text-align: right;\">\n",
       "      <th></th>\n",
       "      <th>children</th>\n",
       "      <th>days_employed</th>\n",
       "      <th>dob_years</th>\n",
       "      <th>education</th>\n",
       "      <th>education_id</th>\n",
       "      <th>family_status</th>\n",
       "      <th>family_status_id</th>\n",
       "      <th>gender</th>\n",
       "      <th>income_type</th>\n",
       "      <th>debt</th>\n",
       "      <th>total_income</th>\n",
       "      <th>purpose</th>\n",
       "    </tr>\n",
       "  </thead>\n",
       "  <tbody>\n",
       "    <tr>\n",
       "      <th>0</th>\n",
       "      <td>1</td>\n",
       "      <td>-8437.673028</td>\n",
       "      <td>42</td>\n",
       "      <td>высшее</td>\n",
       "      <td>0</td>\n",
       "      <td>женат / замужем</td>\n",
       "      <td>0</td>\n",
       "      <td>F</td>\n",
       "      <td>сотрудник</td>\n",
       "      <td>0</td>\n",
       "      <td>253875.639453</td>\n",
       "      <td>покупка жилья</td>\n",
       "    </tr>\n",
       "    <tr>\n",
       "      <th>1</th>\n",
       "      <td>1</td>\n",
       "      <td>-4024.803754</td>\n",
       "      <td>36</td>\n",
       "      <td>среднее</td>\n",
       "      <td>1</td>\n",
       "      <td>женат / замужем</td>\n",
       "      <td>0</td>\n",
       "      <td>F</td>\n",
       "      <td>сотрудник</td>\n",
       "      <td>0</td>\n",
       "      <td>112080.014102</td>\n",
       "      <td>приобретение автомобиля</td>\n",
       "    </tr>\n",
       "    <tr>\n",
       "      <th>2</th>\n",
       "      <td>0</td>\n",
       "      <td>-5623.422610</td>\n",
       "      <td>33</td>\n",
       "      <td>Среднее</td>\n",
       "      <td>1</td>\n",
       "      <td>женат / замужем</td>\n",
       "      <td>0</td>\n",
       "      <td>M</td>\n",
       "      <td>сотрудник</td>\n",
       "      <td>0</td>\n",
       "      <td>145885.952297</td>\n",
       "      <td>покупка жилья</td>\n",
       "    </tr>\n",
       "    <tr>\n",
       "      <th>3</th>\n",
       "      <td>3</td>\n",
       "      <td>-4124.747207</td>\n",
       "      <td>32</td>\n",
       "      <td>среднее</td>\n",
       "      <td>1</td>\n",
       "      <td>женат / замужем</td>\n",
       "      <td>0</td>\n",
       "      <td>M</td>\n",
       "      <td>сотрудник</td>\n",
       "      <td>0</td>\n",
       "      <td>267628.550329</td>\n",
       "      <td>дополнительное образование</td>\n",
       "    </tr>\n",
       "    <tr>\n",
       "      <th>4</th>\n",
       "      <td>0</td>\n",
       "      <td>340266.072047</td>\n",
       "      <td>53</td>\n",
       "      <td>среднее</td>\n",
       "      <td>1</td>\n",
       "      <td>гражданский брак</td>\n",
       "      <td>1</td>\n",
       "      <td>F</td>\n",
       "      <td>пенсионер</td>\n",
       "      <td>0</td>\n",
       "      <td>158616.077870</td>\n",
       "      <td>сыграть свадьбу</td>\n",
       "    </tr>\n",
       "  </tbody>\n",
       "</table>\n",
       "</div>"
      ],
      "text/plain": [
       "   children  days_employed  ...   total_income                     purpose\n",
       "0         1   -8437.673028  ...  253875.639453               покупка жилья\n",
       "1         1   -4024.803754  ...  112080.014102     приобретение автомобиля\n",
       "2         0   -5623.422610  ...  145885.952297               покупка жилья\n",
       "3         3   -4124.747207  ...  267628.550329  дополнительное образование\n",
       "4         0  340266.072047  ...  158616.077870             сыграть свадьбу\n",
       "\n",
       "[5 rows x 12 columns]"
      ]
     },
     "execution_count": 4,
     "metadata": {
      "tags": []
     },
     "output_type": "execute_result"
    }
   ],
   "source": [
    "bank_stat = pd.read_csv('data.csv')\n",
    "bank_stat.head()"
   ]
  },
  {
   "cell_type": "code",
   "execution_count": null,
   "metadata": {
    "id": "aHsCJMEYKACv"
   },
   "outputs": [],
   "source": [
    "from google.colab import drive\n",
    "drive.mount('/content/drive')"
   ]
  },
  {
   "cell_type": "code",
   "execution_count": null,
   "metadata": {
    "id": "meGQA8wxrA0A",
    "outputId": "b507d7fb-ed93-4a23-d96d-5fe2eb7faa75"
   },
   "outputs": [
    {
     "name": "stdout",
     "output_type": "stream",
     "text": [
      "<class 'pandas.core.frame.DataFrame'>\n",
      "RangeIndex: 21525 entries, 0 to 21524\n",
      "Data columns (total 12 columns):\n",
      "children            21525 non-null int64\n",
      "days_employed       19351 non-null float64\n",
      "dob_years           21525 non-null int64\n",
      "education           21525 non-null object\n",
      "education_id        21525 non-null int64\n",
      "family_status       21525 non-null object\n",
      "family_status_id    21525 non-null int64\n",
      "gender              21525 non-null object\n",
      "income_type         21525 non-null object\n",
      "debt                21525 non-null int64\n",
      "total_income        19351 non-null float64\n",
      "purpose             21525 non-null object\n",
      "dtypes: float64(2), int64(5), object(5)\n",
      "memory usage: 2.0+ MB\n"
     ]
    }
   ],
   "source": [
    "bank_stat.info()"
   ]
  },
  {
   "cell_type": "markdown",
   "metadata": {
    "id": "z9qSccLDrA0C"
   },
   "source": [
    "### **Вывод**"
   ]
  },
  {
   "cell_type": "markdown",
   "metadata": {
    "id": "BGyk_ouVrA0D"
   },
   "source": [
    "Данные нуждаются в предобработке:\n",
    "\n",
    "1) Столбцы days_employed и total_income имеют пропущенные значения.\n",
    "\n",
    "2) Столбец days_employed и столбец total_income имеют тип float64, что может быть было сделано специально, но такая точность в данном случае только мешает восприятию информации - поэтому было бы лучше заменить их на целочисленное значение.\n",
    "\n",
    "3) Столбец days_employed имеет отрицательные значения (этот столбец показывает общий трудовой стаж в днях). Предполагаю, что это или ошибка ввода или отрицательные значения показывают, что человек сейчас без работы, но при этом в дееспособном возрасте.\n",
    "\n",
    "4) Есть столбцы с одинаковыми значениями, но записанными в разном регистре (например, в столбце education) - это может мешать дальнейшей группировке данных.\n"
   ]
  },
  {
   "cell_type": "markdown",
   "metadata": {
    "id": "sPWK370erA0E"
   },
   "source": [
    "### **2. Предобработка данных**"
   ]
  },
  {
   "cell_type": "markdown",
   "metadata": {
    "id": "NuDL6bZTrA0F"
   },
   "source": [
    "### **Обработка пропусков**"
   ]
  },
  {
   "cell_type": "markdown",
   "metadata": {
    "id": "rw6A3r6brA0F"
   },
   "source": [
    "Обработаем столбцы с пропущенными данными: days_employed и total_income.\n",
    "\n",
    "Столбец days_employed:"
   ]
  },
  {
   "cell_type": "code",
   "execution_count": null,
   "metadata": {
    "id": "5X5qybb3rA0F",
    "outputId": "48b11fb1-1cbb-4cca-a6f8-328b2037fd60"
   },
   "outputs": [
    {
     "name": "stdout",
     "output_type": "stream",
     "text": [
      "3445\n"
     ]
    }
   ],
   "source": [
    "print(bank_stat.loc[bank_stat['days_employed']>0].shape[0])"
   ]
  },
  {
   "cell_type": "code",
   "execution_count": null,
   "metadata": {
    "id": "GdWsQFgMrA0I",
    "outputId": "f80b009b-7307-4d19-a382-f23c557c8570"
   },
   "outputs": [
    {
     "name": "stdout",
     "output_type": "stream",
     "text": [
      "15906\n"
     ]
    }
   ],
   "source": [
    "print(bank_stat['days_employed'].loc[bank_stat['days_employed']<0].count())"
   ]
  },
  {
   "cell_type": "code",
   "execution_count": null,
   "metadata": {
    "id": "yf5cR4uNrA0K",
    "outputId": "30399626-3a1b-43bc-b7d4-8e125de3c10f"
   },
   "outputs": [
    {
     "data": {
      "text/plain": [
       "2174"
      ]
     },
     "execution_count": 5,
     "metadata": {
      "tags": []
     },
     "output_type": "execute_result"
    }
   ],
   "source": [
    "bank_stat['days_employed'].isna().sum()"
   ]
  },
  {
   "cell_type": "markdown",
   "metadata": {
    "id": "JvCE524YrA0N"
   },
   "source": [
    "Пропусков в целом вполне допустимое количество (около 10%), а вот отрицательных значений подозрительно много, не похоже на простую опечатку. Предполагаю, что минус мог появится, например, в результате переноса данных из одной системы в другую (поэтому количество отрицательных значений такое большое), и нужно избавится от этого минуса, тк общий трудовой стаж не может быть отрицательным. \n",
    "\n",
    "Также в столбце втречаются очень большие числа, поэтому переведу все данные этого столбца в года для проверки значений на адекватность."
   ]
  },
  {
   "cell_type": "code",
   "execution_count": null,
   "metadata": {
    "id": "BCONNOhKrA0O"
   },
   "outputs": [],
   "source": [
    "bank_stat['days_employed_in_years'] = bank_stat['days_employed']/365 "
   ]
  },
  {
   "cell_type": "code",
   "execution_count": null,
   "metadata": {
    "id": "AcLJpDmGrA0Q",
    "outputId": "0e2192cc-a3f4-4d4c-cc92-1ab16a56224b"
   },
   "outputs": [
    {
     "data": {
      "text/plain": [
       "<matplotlib.axes._subplots.AxesSubplot at 0x7fe4f6730610>"
      ]
     },
     "execution_count": 7,
     "metadata": {
      "tags": []
     },
     "output_type": "execute_result"
    },
    {
     "data": {
      "image/png": "[encoded data removed]",
      "text/plain": [
       "<Figure size 432x288 with 1 Axes>"
      ]
     },
     "metadata": {
      "needs_background": "light",
      "tags": []
     },
     "output_type": "display_data"
    }
   ],
   "source": [
    "bank_stat['days_employed_in_years'].hist()"
   ]
  },
  {
   "cell_type": "markdown",
   "metadata": {
    "id": "PDUGAvbOrA0S"
   },
   "source": [
    "Данные выглядят неадекватно - трудовой стаж не может составлять 900-1100 лет.\n",
    "\n",
    "Посмотрим поближе:"
   ]
  },
  {
   "cell_type": "code",
   "execution_count": null,
   "metadata": {
    "id": "HVMTmoQvrA0T",
    "outputId": "26bb3109-c07e-49fc-9ea5-50d9b179d9fa"
   },
   "outputs": [
    {
     "data": {
      "text/plain": [
       "<matplotlib.axes._subplots.AxesSubplot at 0x7fe4f08e8490>"
      ]
     },
     "execution_count": 8,
     "metadata": {
      "tags": []
     },
     "output_type": "execute_result"
    },
    {
     "data": {
      "image/png": "[encoded data removed]",
      "text/plain": [
       "<Figure size 432x288 with 1 Axes>"
      ]
     },
     "metadata": {
      "needs_background": "light",
      "tags": []
     },
     "output_type": "display_data"
    }
   ],
   "source": [
    "bank_stat['days_employed_in_years'].loc[bank_stat['days_employed_in_years']<100].hist()"
   ]
  },
  {
   "cell_type": "code",
   "execution_count": null,
   "metadata": {
    "id": "bXusk_g5rA0Y",
    "outputId": "58e9231e-409e-4029-e4af-803f1c41347f"
   },
   "outputs": [
    {
     "data": {
      "text/plain": [
       "<matplotlib.axes._subplots.AxesSubplot at 0x7fe4f07fe290>"
      ]
     },
     "execution_count": 9,
     "metadata": {
      "tags": []
     },
     "output_type": "execute_result"
    },
    {
     "data": {
      "image/png": "[encoded data removed]",
      "text/plain": [
       "<Figure size 432x288 with 1 Axes>"
      ]
     },
     "metadata": {
      "needs_background": "light",
      "tags": []
     },
     "output_type": "display_data"
    }
   ],
   "source": [
    "bank_stat['days_employed_in_years'].loc[bank_stat['days_employed_in_years']>800].hist()"
   ]
  },
  {
   "cell_type": "markdown",
   "metadata": {
    "id": "HUQtiDTIrA0a"
   },
   "source": [
    "Предполагаю, что данные, которые ушли в минус - это и есть \"адекватные\" данные для работы, которые при переносе или каком-то еще процессе по ошибке стали отрицательными. Остальные же данные кажутся просто случайно проставленными большими числами.\n",
    "\n",
    "Если посмотреть на таблицу и попробовать понять с какими еще параметрами может связан такой большой трудовой стаж, то в глаза бросаются пенсионеры, поэтому посмотрим на них поближе:"
   ]
  },
  {
   "cell_type": "code",
   "execution_count": null,
   "metadata": {
    "id": "aNZsKGS_rA0b",
    "outputId": "5286896c-c03d-4c69-9326-d05130fca4b1"
   },
   "outputs": [
    {
     "data": {
      "text/plain": [
       "count    3443.000000\n",
       "mean     1000.009565\n",
       "std        57.724948\n",
       "min       900.626632\n",
       "25%       949.724236\n",
       "50%      1000.584401\n",
       "75%      1049.949033\n",
       "max      1100.699727\n",
       "Name: days_employed_in_years, dtype: float64"
      ]
     },
     "execution_count": 10,
     "metadata": {
      "tags": []
     },
     "output_type": "execute_result"
    }
   ],
   "source": [
    "bank_stat['days_employed_in_years'].loc[bank_stat['income_type'] == 'пенсионер'].describe()"
   ]
  },
  {
   "cell_type": "code",
   "execution_count": null,
   "metadata": {
    "id": "PEQzlDVmrA0d",
    "outputId": "3ffd104b-cd5e-48be-feb5-0358b3a5709b"
   },
   "outputs": [
    {
     "data": {
      "text/plain": [
       "count    10014.000000\n",
       "mean        -6.373970\n",
       "std          6.323080\n",
       "min        -50.380685\n",
       "25%         -8.515406\n",
       "50%         -4.312884\n",
       "75%         -2.043911\n",
       "max         -0.066141\n",
       "Name: days_employed_in_years, dtype: float64"
      ]
     },
     "execution_count": 11,
     "metadata": {
      "tags": []
     },
     "output_type": "execute_result"
    }
   ],
   "source": [
    "bank_stat['days_employed_in_years'].loc[bank_stat['income_type'] == 'сотрудник'].describe()"
   ]
  },
  {
   "cell_type": "markdown",
   "metadata": {
    "id": "Ex76LCo1rA0g"
   },
   "source": [
    "Действительно, у категории \"пенсионер\" среднее число лет работы - 1000, а у категории \"сотрудник\", например - 6 лет, что уже похоже на адекватные данные (при замене чисел на положительные).\n",
    "\n",
    "Построю сводную таблицу для всех типов занятости:"
   ]
  },
  {
   "cell_type": "code",
   "execution_count": null,
   "metadata": {
    "id": "1UoeFaCArA0g",
    "outputId": "eda5167c-7cd3-425e-fcef-e4e5412835d2"
   },
   "outputs": [
    {
     "data": {
      "text/html": [
       "<div>\n",
       "<style scoped>\n",
       "    .dataframe tbody tr th:only-of-type {\n",
       "        vertical-align: middle;\n",
       "    }\n",
       "\n",
       "    .dataframe tbody tr th {\n",
       "        vertical-align: top;\n",
       "    }\n",
       "\n",
       "    .dataframe thead th {\n",
       "        text-align: right;\n",
       "    }\n",
       "</style>\n",
       "<table border=\"1\" class=\"dataframe\">\n",
       "  <thead>\n",
       "    <tr style=\"text-align: right;\">\n",
       "      <th></th>\n",
       "      <th>count</th>\n",
       "      <th>mean</th>\n",
       "      <th>std</th>\n",
       "      <th>min</th>\n",
       "      <th>25%</th>\n",
       "      <th>50%</th>\n",
       "      <th>75%</th>\n",
       "      <th>max</th>\n",
       "    </tr>\n",
       "    <tr>\n",
       "      <th>income_type</th>\n",
       "      <th></th>\n",
       "      <th></th>\n",
       "      <th></th>\n",
       "      <th></th>\n",
       "      <th></th>\n",
       "      <th></th>\n",
       "      <th></th>\n",
       "      <th></th>\n",
       "    </tr>\n",
       "  </thead>\n",
       "  <tbody>\n",
       "    <tr>\n",
       "      <td>безработный</td>\n",
       "      <td>2.0</td>\n",
       "      <td>1003.873021</td>\n",
       "      <td>111.932818</td>\n",
       "      <td>924.724567</td>\n",
       "      <td>964.298794</td>\n",
       "      <td>1003.873021</td>\n",
       "      <td>1043.447248</td>\n",
       "      <td>1083.021476</td>\n",
       "    </tr>\n",
       "    <tr>\n",
       "      <td>в декрете</td>\n",
       "      <td>1.0</td>\n",
       "      <td>-9.032219</td>\n",
       "      <td>NaN</td>\n",
       "      <td>-9.032219</td>\n",
       "      <td>-9.032219</td>\n",
       "      <td>-9.032219</td>\n",
       "      <td>-9.032219</td>\n",
       "      <td>-9.032219</td>\n",
       "    </tr>\n",
       "    <tr>\n",
       "      <td>госслужащий</td>\n",
       "      <td>1312.0</td>\n",
       "      <td>-9.314786</td>\n",
       "      <td>7.639374</td>\n",
       "      <td>-41.624746</td>\n",
       "      <td>-13.039450</td>\n",
       "      <td>-7.368132</td>\n",
       "      <td>-3.444306</td>\n",
       "      <td>-0.109463</td>\n",
       "    </tr>\n",
       "    <tr>\n",
       "      <td>компаньон</td>\n",
       "      <td>4577.0</td>\n",
       "      <td>-5.784998</td>\n",
       "      <td>5.612188</td>\n",
       "      <td>-48.261817</td>\n",
       "      <td>-7.881229</td>\n",
       "      <td>-4.239403</td>\n",
       "      <td>-1.878596</td>\n",
       "      <td>-0.082727</td>\n",
       "    </tr>\n",
       "    <tr>\n",
       "      <td>пенсионер</td>\n",
       "      <td>3443.0</td>\n",
       "      <td>1000.009565</td>\n",
       "      <td>57.724948</td>\n",
       "      <td>900.626632</td>\n",
       "      <td>949.724236</td>\n",
       "      <td>1000.584401</td>\n",
       "      <td>1049.949033</td>\n",
       "      <td>1100.699727</td>\n",
       "    </tr>\n",
       "    <tr>\n",
       "      <td>предприниматель</td>\n",
       "      <td>1.0</td>\n",
       "      <td>-1.426981</td>\n",
       "      <td>NaN</td>\n",
       "      <td>-1.426981</td>\n",
       "      <td>-1.426981</td>\n",
       "      <td>-1.426981</td>\n",
       "      <td>-1.426981</td>\n",
       "      <td>-1.426981</td>\n",
       "    </tr>\n",
       "    <tr>\n",
       "      <td>сотрудник</td>\n",
       "      <td>10014.0</td>\n",
       "      <td>-6.373970</td>\n",
       "      <td>6.323080</td>\n",
       "      <td>-50.380685</td>\n",
       "      <td>-8.515406</td>\n",
       "      <td>-4.312884</td>\n",
       "      <td>-2.043911</td>\n",
       "      <td>-0.066141</td>\n",
       "    </tr>\n",
       "    <tr>\n",
       "      <td>студент</td>\n",
       "      <td>1.0</td>\n",
       "      <td>-1.585621</td>\n",
       "      <td>NaN</td>\n",
       "      <td>-1.585621</td>\n",
       "      <td>-1.585621</td>\n",
       "      <td>-1.585621</td>\n",
       "      <td>-1.585621</td>\n",
       "      <td>-1.585621</td>\n",
       "    </tr>\n",
       "  </tbody>\n",
       "</table>\n",
       "</div>"
      ],
      "text/plain": [
       "                   count         mean         std         min         25%  \\\n",
       "income_type                                                                 \n",
       "безработный          2.0  1003.873021  111.932818  924.724567  964.298794   \n",
       "в декрете            1.0    -9.032219         NaN   -9.032219   -9.032219   \n",
       "госслужащий       1312.0    -9.314786    7.639374  -41.624746  -13.039450   \n",
       "компаньон         4577.0    -5.784998    5.612188  -48.261817   -7.881229   \n",
       "пенсионер         3443.0  1000.009565   57.724948  900.626632  949.724236   \n",
       "предприниматель      1.0    -1.426981         NaN   -1.426981   -1.426981   \n",
       "сотрудник        10014.0    -6.373970    6.323080  -50.380685   -8.515406   \n",
       "студент              1.0    -1.585621         NaN   -1.585621   -1.585621   \n",
       "\n",
       "                         50%          75%          max  \n",
       "income_type                                             \n",
       "безработный      1003.873021  1043.447248  1083.021476  \n",
       "в декрете          -9.032219    -9.032219    -9.032219  \n",
       "госслужащий        -7.368132    -3.444306    -0.109463  \n",
       "компаньон          -4.239403    -1.878596    -0.082727  \n",
       "пенсионер        1000.584401  1049.949033  1100.699727  \n",
       "предприниматель    -1.426981    -1.426981    -1.426981  \n",
       "сотрудник          -4.312884    -2.043911    -0.066141  \n",
       "студент            -1.585621    -1.585621    -1.585621  "
      ]
     },
     "execution_count": 12,
     "metadata": {
      "tags": []
     },
     "output_type": "execute_result"
    }
   ],
   "source": [
    "bank_stat.groupby('income_type')['days_employed_in_years'].describe()"
   ]
  },
  {
   "cell_type": "markdown",
   "metadata": {
    "id": "9QJaed_KrA0i"
   },
   "source": [
    "Невооруженным глазом видно, что по среднему кол-ву лет (и по минимальному числу лет также) выделяются два типа: \"безработный\" и \"пенсионер\". Безработных можно не расматривать, тк их в данной выборке всего 2 человека, а вот пенсионеров внушительная часть.\n",
    "\n",
    "Заменю все отрицательные значения на положительные."
   ]
  },
  {
   "cell_type": "code",
   "execution_count": null,
   "metadata": {
    "id": "4YzcSuXZrA0j"
   },
   "outputs": [],
   "source": [
    "bank_stat['days_employed_in_years'] = bank_stat['days_employed_in_years'].abs()"
   ]
  },
  {
   "cell_type": "markdown",
   "metadata": {
    "id": "UAYOHAfIrA0l"
   },
   "source": [
    "Чтобы избежать скачков в результатах - заменим все неадекватные значения в трудовом стаже пенсионеров на что-то среднее:\n",
    "с 18 до 60 лет максимум можно проработать 42 года. Но учитывая то, что пенсионеры бывают разные и кто-то перестает работать раньше, а кто-то еще работает после выхода на пенсию, возьмем что-то ближе к максимуму этого значения (тк раньше это было 900 лет - сильно статистику это не должно испортить) - возьмем 37 лет, например.\n",
    "Заменим у всех пенсионеров, у которых трудовой стаж больше 100 лет стаж на 37 лет."
   ]
  },
  {
   "cell_type": "code",
   "execution_count": null,
   "metadata": {
    "id": "Kvb3de1prA0l",
    "outputId": "0797ecba-b1a3-4498-acfa-baf425a86665"
   },
   "outputs": [
    {
     "data": {
      "text/html": [
       "<div>\n",
       "<style scoped>\n",
       "    .dataframe tbody tr th:only-of-type {\n",
       "        vertical-align: middle;\n",
       "    }\n",
       "\n",
       "    .dataframe tbody tr th {\n",
       "        vertical-align: top;\n",
       "    }\n",
       "\n",
       "    .dataframe thead th {\n",
       "        text-align: right;\n",
       "    }\n",
       "</style>\n",
       "<table border=\"1\" class=\"dataframe\">\n",
       "  <thead>\n",
       "    <tr style=\"text-align: right;\">\n",
       "      <th></th>\n",
       "      <th>children</th>\n",
       "      <th>days_employed</th>\n",
       "      <th>dob_years</th>\n",
       "      <th>education</th>\n",
       "      <th>education_id</th>\n",
       "      <th>family_status</th>\n",
       "      <th>family_status_id</th>\n",
       "      <th>gender</th>\n",
       "      <th>income_type</th>\n",
       "      <th>debt</th>\n",
       "      <th>total_income</th>\n",
       "      <th>purpose</th>\n",
       "      <th>days_employed_in_years</th>\n",
       "    </tr>\n",
       "  </thead>\n",
       "  <tbody>\n",
       "    <tr>\n",
       "      <td>4</td>\n",
       "      <td>0</td>\n",
       "      <td>340266.072047</td>\n",
       "      <td>53</td>\n",
       "      <td>среднее</td>\n",
       "      <td>1</td>\n",
       "      <td>гражданский брак</td>\n",
       "      <td>1</td>\n",
       "      <td>F</td>\n",
       "      <td>пенсионер</td>\n",
       "      <td>0</td>\n",
       "      <td>158616.077870</td>\n",
       "      <td>сыграть свадьбу</td>\n",
       "      <td>37.0</td>\n",
       "    </tr>\n",
       "    <tr>\n",
       "      <td>12</td>\n",
       "      <td>0</td>\n",
       "      <td>NaN</td>\n",
       "      <td>65</td>\n",
       "      <td>среднее</td>\n",
       "      <td>1</td>\n",
       "      <td>гражданский брак</td>\n",
       "      <td>1</td>\n",
       "      <td>M</td>\n",
       "      <td>пенсионер</td>\n",
       "      <td>0</td>\n",
       "      <td>NaN</td>\n",
       "      <td>сыграть свадьбу</td>\n",
       "      <td>NaN</td>\n",
       "    </tr>\n",
       "    <tr>\n",
       "      <td>18</td>\n",
       "      <td>0</td>\n",
       "      <td>400281.136913</td>\n",
       "      <td>53</td>\n",
       "      <td>среднее</td>\n",
       "      <td>1</td>\n",
       "      <td>вдовец / вдова</td>\n",
       "      <td>2</td>\n",
       "      <td>F</td>\n",
       "      <td>пенсионер</td>\n",
       "      <td>0</td>\n",
       "      <td>56823.777243</td>\n",
       "      <td>на покупку подержанного автомобиля</td>\n",
       "      <td>37.0</td>\n",
       "    </tr>\n",
       "    <tr>\n",
       "      <td>24</td>\n",
       "      <td>1</td>\n",
       "      <td>338551.952911</td>\n",
       "      <td>57</td>\n",
       "      <td>среднее</td>\n",
       "      <td>1</td>\n",
       "      <td>Не женат / не замужем</td>\n",
       "      <td>4</td>\n",
       "      <td>F</td>\n",
       "      <td>пенсионер</td>\n",
       "      <td>0</td>\n",
       "      <td>290547.235997</td>\n",
       "      <td>операции с коммерческой недвижимостью</td>\n",
       "      <td>37.0</td>\n",
       "    </tr>\n",
       "    <tr>\n",
       "      <td>25</td>\n",
       "      <td>0</td>\n",
       "      <td>363548.489348</td>\n",
       "      <td>67</td>\n",
       "      <td>среднее</td>\n",
       "      <td>1</td>\n",
       "      <td>женат / замужем</td>\n",
       "      <td>0</td>\n",
       "      <td>M</td>\n",
       "      <td>пенсионер</td>\n",
       "      <td>0</td>\n",
       "      <td>55112.757732</td>\n",
       "      <td>покупка недвижимости</td>\n",
       "      <td>37.0</td>\n",
       "    </tr>\n",
       "    <tr>\n",
       "      <td>...</td>\n",
       "      <td>...</td>\n",
       "      <td>...</td>\n",
       "      <td>...</td>\n",
       "      <td>...</td>\n",
       "      <td>...</td>\n",
       "      <td>...</td>\n",
       "      <td>...</td>\n",
       "      <td>...</td>\n",
       "      <td>...</td>\n",
       "      <td>...</td>\n",
       "      <td>...</td>\n",
       "      <td>...</td>\n",
       "      <td>...</td>\n",
       "    </tr>\n",
       "    <tr>\n",
       "      <td>21505</td>\n",
       "      <td>0</td>\n",
       "      <td>338904.866406</td>\n",
       "      <td>53</td>\n",
       "      <td>среднее</td>\n",
       "      <td>1</td>\n",
       "      <td>гражданский брак</td>\n",
       "      <td>1</td>\n",
       "      <td>M</td>\n",
       "      <td>пенсионер</td>\n",
       "      <td>0</td>\n",
       "      <td>75439.993167</td>\n",
       "      <td>сыграть свадьбу</td>\n",
       "      <td>37.0</td>\n",
       "    </tr>\n",
       "    <tr>\n",
       "      <td>21508</td>\n",
       "      <td>0</td>\n",
       "      <td>386497.714078</td>\n",
       "      <td>62</td>\n",
       "      <td>среднее</td>\n",
       "      <td>1</td>\n",
       "      <td>женат / замужем</td>\n",
       "      <td>0</td>\n",
       "      <td>M</td>\n",
       "      <td>пенсионер</td>\n",
       "      <td>0</td>\n",
       "      <td>72638.590915</td>\n",
       "      <td>недвижимость</td>\n",
       "      <td>37.0</td>\n",
       "    </tr>\n",
       "    <tr>\n",
       "      <td>21509</td>\n",
       "      <td>0</td>\n",
       "      <td>362161.054124</td>\n",
       "      <td>59</td>\n",
       "      <td>высшее</td>\n",
       "      <td>0</td>\n",
       "      <td>женат / замужем</td>\n",
       "      <td>0</td>\n",
       "      <td>M</td>\n",
       "      <td>пенсионер</td>\n",
       "      <td>0</td>\n",
       "      <td>73029.059379</td>\n",
       "      <td>операции с недвижимостью</td>\n",
       "      <td>37.0</td>\n",
       "    </tr>\n",
       "    <tr>\n",
       "      <td>21518</td>\n",
       "      <td>0</td>\n",
       "      <td>373995.710838</td>\n",
       "      <td>59</td>\n",
       "      <td>СРЕДНЕЕ</td>\n",
       "      <td>1</td>\n",
       "      <td>женат / замужем</td>\n",
       "      <td>0</td>\n",
       "      <td>F</td>\n",
       "      <td>пенсионер</td>\n",
       "      <td>0</td>\n",
       "      <td>153864.650328</td>\n",
       "      <td>сделка с автомобилем</td>\n",
       "      <td>37.0</td>\n",
       "    </tr>\n",
       "    <tr>\n",
       "      <td>21521</td>\n",
       "      <td>0</td>\n",
       "      <td>343937.404131</td>\n",
       "      <td>67</td>\n",
       "      <td>среднее</td>\n",
       "      <td>1</td>\n",
       "      <td>женат / замужем</td>\n",
       "      <td>0</td>\n",
       "      <td>F</td>\n",
       "      <td>пенсионер</td>\n",
       "      <td>0</td>\n",
       "      <td>155999.806512</td>\n",
       "      <td>сделка с автомобилем</td>\n",
       "      <td>37.0</td>\n",
       "    </tr>\n",
       "  </tbody>\n",
       "</table>\n",
       "<p>3856 rows × 13 columns</p>\n",
       "</div>"
      ],
      "text/plain": [
       "       children  days_employed  dob_years education  education_id  \\\n",
       "4             0  340266.072047         53   среднее             1   \n",
       "12            0            NaN         65   среднее             1   \n",
       "18            0  400281.136913         53   среднее             1   \n",
       "24            1  338551.952911         57   среднее             1   \n",
       "25            0  363548.489348         67   среднее             1   \n",
       "...         ...            ...        ...       ...           ...   \n",
       "21505         0  338904.866406         53   среднее             1   \n",
       "21508         0  386497.714078         62   среднее             1   \n",
       "21509         0  362161.054124         59    высшее             0   \n",
       "21518         0  373995.710838         59   СРЕДНЕЕ             1   \n",
       "21521         0  343937.404131         67   среднее             1   \n",
       "\n",
       "               family_status  family_status_id gender income_type  debt  \\\n",
       "4           гражданский брак                 1      F   пенсионер     0   \n",
       "12          гражданский брак                 1      M   пенсионер     0   \n",
       "18            вдовец / вдова                 2      F   пенсионер     0   \n",
       "24     Не женат / не замужем                 4      F   пенсионер     0   \n",
       "25           женат / замужем                 0      M   пенсионер     0   \n",
       "...                      ...               ...    ...         ...   ...   \n",
       "21505       гражданский брак                 1      M   пенсионер     0   \n",
       "21508        женат / замужем                 0      M   пенсионер     0   \n",
       "21509        женат / замужем                 0      M   пенсионер     0   \n",
       "21518        женат / замужем                 0      F   пенсионер     0   \n",
       "21521        женат / замужем                 0      F   пенсионер     0   \n",
       "\n",
       "        total_income                                purpose  \\\n",
       "4      158616.077870                        сыграть свадьбу   \n",
       "12               NaN                        сыграть свадьбу   \n",
       "18      56823.777243     на покупку подержанного автомобиля   \n",
       "24     290547.235997  операции с коммерческой недвижимостью   \n",
       "25      55112.757732                   покупка недвижимости   \n",
       "...              ...                                    ...   \n",
       "21505   75439.993167                        сыграть свадьбу   \n",
       "21508   72638.590915                           недвижимость   \n",
       "21509   73029.059379               операции с недвижимостью   \n",
       "21518  153864.650328                   сделка с автомобилем   \n",
       "21521  155999.806512                   сделка с автомобилем   \n",
       "\n",
       "       days_employed_in_years  \n",
       "4                        37.0  \n",
       "12                        NaN  \n",
       "18                       37.0  \n",
       "24                       37.0  \n",
       "25                       37.0  \n",
       "...                       ...  \n",
       "21505                    37.0  \n",
       "21508                    37.0  \n",
       "21509                    37.0  \n",
       "21518                    37.0  \n",
       "21521                    37.0  \n",
       "\n",
       "[3856 rows x 13 columns]"
      ]
     },
     "execution_count": 14,
     "metadata": {
      "tags": []
     },
     "output_type": "execute_result"
    }
   ],
   "source": [
    "bank_stat.loc[(bank_stat['income_type'] == 'пенсионер') & (bank_stat['days_employed_in_years'] > 100), 'days_employed_in_years'] = 37\n",
    "bank_stat.loc[bank_stat['income_type'] == 'пенсионер']"
   ]
  },
  {
   "cell_type": "markdown",
   "metadata": {
    "id": "d7da_U2nrA0n"
   },
   "source": [
    "Вернемся к пропускам в столбце days_employed_in_years. Попробую еще найти причину пропусков (может быть она тоже связана с типом занятости, например)."
   ]
  },
  {
   "cell_type": "code",
   "execution_count": null,
   "metadata": {
    "id": "UJJeLUCgrA0o",
    "outputId": "8d5bf154-8161-4487-ee2d-9bde00d97a3c"
   },
   "outputs": [
    {
     "data": {
      "text/html": [
       "<div>\n",
       "<style scoped>\n",
       "    .dataframe tbody tr th:only-of-type {\n",
       "        vertical-align: middle;\n",
       "    }\n",
       "\n",
       "    .dataframe tbody tr th {\n",
       "        vertical-align: top;\n",
       "    }\n",
       "\n",
       "    .dataframe thead tr th {\n",
       "        text-align: left;\n",
       "    }\n",
       "\n",
       "    .dataframe thead tr:last-of-type th {\n",
       "        text-align: right;\n",
       "    }\n",
       "</style>\n",
       "<table border=\"1\" class=\"dataframe\">\n",
       "  <thead>\n",
       "    <tr>\n",
       "      <th></th>\n",
       "      <th colspan=\"8\" halign=\"left\">children</th>\n",
       "      <th colspan=\"2\" halign=\"left\">days_employed</th>\n",
       "      <th>...</th>\n",
       "      <th colspan=\"2\" halign=\"left\">total_income</th>\n",
       "      <th colspan=\"8\" halign=\"left\">days_employed_in_years</th>\n",
       "    </tr>\n",
       "    <tr>\n",
       "      <th></th>\n",
       "      <th>count</th>\n",
       "      <th>mean</th>\n",
       "      <th>std</th>\n",
       "      <th>min</th>\n",
       "      <th>25%</th>\n",
       "      <th>50%</th>\n",
       "      <th>75%</th>\n",
       "      <th>max</th>\n",
       "      <th>count</th>\n",
       "      <th>mean</th>\n",
       "      <th>...</th>\n",
       "      <th>75%</th>\n",
       "      <th>max</th>\n",
       "      <th>count</th>\n",
       "      <th>mean</th>\n",
       "      <th>std</th>\n",
       "      <th>min</th>\n",
       "      <th>25%</th>\n",
       "      <th>50%</th>\n",
       "      <th>75%</th>\n",
       "      <th>max</th>\n",
       "    </tr>\n",
       "    <tr>\n",
       "      <th>income_type</th>\n",
       "      <th></th>\n",
       "      <th></th>\n",
       "      <th></th>\n",
       "      <th></th>\n",
       "      <th></th>\n",
       "      <th></th>\n",
       "      <th></th>\n",
       "      <th></th>\n",
       "      <th></th>\n",
       "      <th></th>\n",
       "      <th></th>\n",
       "      <th></th>\n",
       "      <th></th>\n",
       "      <th></th>\n",
       "      <th></th>\n",
       "      <th></th>\n",
       "      <th></th>\n",
       "      <th></th>\n",
       "      <th></th>\n",
       "      <th></th>\n",
       "      <th></th>\n",
       "    </tr>\n",
       "  </thead>\n",
       "  <tbody>\n",
       "    <tr>\n",
       "      <td>госслужащий</td>\n",
       "      <td>147.0</td>\n",
       "      <td>0.687075</td>\n",
       "      <td>1.797269</td>\n",
       "      <td>0.0</td>\n",
       "      <td>0.0</td>\n",
       "      <td>0.0</td>\n",
       "      <td>1.0</td>\n",
       "      <td>20.0</td>\n",
       "      <td>0.0</td>\n",
       "      <td>NaN</td>\n",
       "      <td>...</td>\n",
       "      <td>NaN</td>\n",
       "      <td>NaN</td>\n",
       "      <td>0.0</td>\n",
       "      <td>NaN</td>\n",
       "      <td>NaN</td>\n",
       "      <td>NaN</td>\n",
       "      <td>NaN</td>\n",
       "      <td>NaN</td>\n",
       "      <td>NaN</td>\n",
       "      <td>NaN</td>\n",
       "    </tr>\n",
       "    <tr>\n",
       "      <td>компаньон</td>\n",
       "      <td>508.0</td>\n",
       "      <td>0.614173</td>\n",
       "      <td>1.666693</td>\n",
       "      <td>-1.0</td>\n",
       "      <td>0.0</td>\n",
       "      <td>0.0</td>\n",
       "      <td>1.0</td>\n",
       "      <td>20.0</td>\n",
       "      <td>0.0</td>\n",
       "      <td>NaN</td>\n",
       "      <td>...</td>\n",
       "      <td>NaN</td>\n",
       "      <td>NaN</td>\n",
       "      <td>0.0</td>\n",
       "      <td>NaN</td>\n",
       "      <td>NaN</td>\n",
       "      <td>NaN</td>\n",
       "      <td>NaN</td>\n",
       "      <td>NaN</td>\n",
       "      <td>NaN</td>\n",
       "      <td>NaN</td>\n",
       "    </tr>\n",
       "    <tr>\n",
       "      <td>пенсионер</td>\n",
       "      <td>413.0</td>\n",
       "      <td>0.164649</td>\n",
       "      <td>1.414903</td>\n",
       "      <td>-1.0</td>\n",
       "      <td>0.0</td>\n",
       "      <td>0.0</td>\n",
       "      <td>0.0</td>\n",
       "      <td>20.0</td>\n",
       "      <td>0.0</td>\n",
       "      <td>NaN</td>\n",
       "      <td>...</td>\n",
       "      <td>NaN</td>\n",
       "      <td>NaN</td>\n",
       "      <td>0.0</td>\n",
       "      <td>NaN</td>\n",
       "      <td>NaN</td>\n",
       "      <td>NaN</td>\n",
       "      <td>NaN</td>\n",
       "      <td>NaN</td>\n",
       "      <td>NaN</td>\n",
       "      <td>NaN</td>\n",
       "    </tr>\n",
       "    <tr>\n",
       "      <td>предприниматель</td>\n",
       "      <td>1.0</td>\n",
       "      <td>0.000000</td>\n",
       "      <td>NaN</td>\n",
       "      <td>0.0</td>\n",
       "      <td>0.0</td>\n",
       "      <td>0.0</td>\n",
       "      <td>0.0</td>\n",
       "      <td>0.0</td>\n",
       "      <td>0.0</td>\n",
       "      <td>NaN</td>\n",
       "      <td>...</td>\n",
       "      <td>NaN</td>\n",
       "      <td>NaN</td>\n",
       "      <td>0.0</td>\n",
       "      <td>NaN</td>\n",
       "      <td>NaN</td>\n",
       "      <td>NaN</td>\n",
       "      <td>NaN</td>\n",
       "      <td>NaN</td>\n",
       "      <td>NaN</td>\n",
       "      <td>NaN</td>\n",
       "    </tr>\n",
       "    <tr>\n",
       "      <td>сотрудник</td>\n",
       "      <td>1105.0</td>\n",
       "      <td>0.651584</td>\n",
       "      <td>1.314930</td>\n",
       "      <td>-1.0</td>\n",
       "      <td>0.0</td>\n",
       "      <td>0.0</td>\n",
       "      <td>1.0</td>\n",
       "      <td>20.0</td>\n",
       "      <td>0.0</td>\n",
       "      <td>NaN</td>\n",
       "      <td>...</td>\n",
       "      <td>NaN</td>\n",
       "      <td>NaN</td>\n",
       "      <td>0.0</td>\n",
       "      <td>NaN</td>\n",
       "      <td>NaN</td>\n",
       "      <td>NaN</td>\n",
       "      <td>NaN</td>\n",
       "      <td>NaN</td>\n",
       "      <td>NaN</td>\n",
       "      <td>NaN</td>\n",
       "    </tr>\n",
       "  </tbody>\n",
       "</table>\n",
       "<p>5 rows × 64 columns</p>\n",
       "</div>"
      ],
      "text/plain": [
       "                children                                                \\\n",
       "                   count      mean       std  min  25%  50%  75%   max   \n",
       "income_type                                                              \n",
       "госслужащий        147.0  0.687075  1.797269  0.0  0.0  0.0  1.0  20.0   \n",
       "компаньон          508.0  0.614173  1.666693 -1.0  0.0  0.0  1.0  20.0   \n",
       "пенсионер          413.0  0.164649  1.414903 -1.0  0.0  0.0  0.0  20.0   \n",
       "предприниматель      1.0  0.000000       NaN  0.0  0.0  0.0  0.0   0.0   \n",
       "сотрудник         1105.0  0.651584  1.314930 -1.0  0.0  0.0  1.0  20.0   \n",
       "\n",
       "                days_employed       ... total_income      \\\n",
       "                        count mean  ...          75% max   \n",
       "income_type                         ...                    \n",
       "госслужащий               0.0  NaN  ...          NaN NaN   \n",
       "компаньон                 0.0  NaN  ...          NaN NaN   \n",
       "пенсионер                 0.0  NaN  ...          NaN NaN   \n",
       "предприниматель           0.0  NaN  ...          NaN NaN   \n",
       "сотрудник                 0.0  NaN  ...          NaN NaN   \n",
       "\n",
       "                days_employed_in_years                               \n",
       "                                 count mean std min 25% 50% 75% max  \n",
       "income_type                                                          \n",
       "госслужащий                        0.0  NaN NaN NaN NaN NaN NaN NaN  \n",
       "компаньон                          0.0  NaN NaN NaN NaN NaN NaN NaN  \n",
       "пенсионер                          0.0  NaN NaN NaN NaN NaN NaN NaN  \n",
       "предприниматель                    0.0  NaN NaN NaN NaN NaN NaN NaN  \n",
       "сотрудник                          0.0  NaN NaN NaN NaN NaN NaN NaN  \n",
       "\n",
       "[5 rows x 64 columns]"
      ]
     },
     "execution_count": 15,
     "metadata": {
      "tags": []
     },
     "output_type": "execute_result"
    }
   ],
   "source": [
    "bank_stat.loc[bank_stat['days_employed'].isna()].groupby('income_type').describe()"
   ]
  },
  {
   "cell_type": "markdown",
   "metadata": {
    "id": "QQwo-4EyrA0q"
   },
   "source": [
    "Предположение, что пропуски как-то связаны с типом занятости не оправдалось - пропуски раскиданы по разным типам и предполагаю, что могли появится просто от того, что у клиента не было с собой трудовой книжки или он решил не раскрывать данные о своем трудовом стаже."
   ]
  },
  {
   "cell_type": "markdown",
   "metadata": {
    "id": "Y_a5hZqhrA0q"
   },
   "source": [
    "Заменим пропуски. Чтобы не помешать анализу данных из этой таблицы, можно, например, разделить данные по возрасту на 4-5 категорий, найти медианное значение по каждой из категорий, и заполнить им все пропущенные значения в каждой из категорий."
   ]
  },
  {
   "cell_type": "markdown",
   "metadata": {
    "id": "ONhk6Y0ErA0q"
   },
   "source": [
    "Для начала посмотрим сколько в столбце возраста нулей:"
   ]
  },
  {
   "cell_type": "code",
   "execution_count": null,
   "metadata": {
    "id": "nCvFcZhIrA0r",
    "outputId": "d6e963a6-3c57-463b-d83b-422fa26b335f"
   },
   "outputs": [
    {
     "name": "stdout",
     "output_type": "stream",
     "text": [
      "101\n"
     ]
    }
   ],
   "source": [
    "print(bank_stat.loc[bank_stat['dob_years'] == 0].shape[0])"
   ]
  },
  {
   "cell_type": "markdown",
   "metadata": {
    "id": "AbHlj2I3rA0s"
   },
   "source": [
    "Теперь посмотрим какие там вообще бывают значения (в том числе, чтобы посмотреть минимум и максимум). "
   ]
  },
  {
   "cell_type": "code",
   "execution_count": null,
   "metadata": {
    "id": "pWtTlLVorA0t",
    "outputId": "8b5a006b-726e-4a28-f3e1-ff02b4883589"
   },
   "outputs": [
    {
     "data": {
      "text/plain": [
       "[0,\n",
       " 19,\n",
       " 20,\n",
       " 21,\n",
       " 22,\n",
       " 23,\n",
       " 24,\n",
       " 25,\n",
       " 26,\n",
       " 27,\n",
       " 28,\n",
       " 29,\n",
       " 30,\n",
       " 31,\n",
       " 32,\n",
       " 33,\n",
       " 34,\n",
       " 35,\n",
       " 36,\n",
       " 37,\n",
       " 38,\n",
       " 39,\n",
       " 40,\n",
       " 41,\n",
       " 42,\n",
       " 43,\n",
       " 44,\n",
       " 45,\n",
       " 46,\n",
       " 47,\n",
       " 48,\n",
       " 49,\n",
       " 50,\n",
       " 51,\n",
       " 52,\n",
       " 53,\n",
       " 54,\n",
       " 55,\n",
       " 56,\n",
       " 57,\n",
       " 58,\n",
       " 59,\n",
       " 60,\n",
       " 61,\n",
       " 62,\n",
       " 63,\n",
       " 64,\n",
       " 65,\n",
       " 66,\n",
       " 67,\n",
       " 68,\n",
       " 69,\n",
       " 70,\n",
       " 71,\n",
       " 72,\n",
       " 73,\n",
       " 74,\n",
       " 75]"
      ]
     },
     "execution_count": 17,
     "metadata": {
      "tags": []
     },
     "output_type": "execute_result"
    }
   ],
   "source": [
    "sorted(bank_stat['dob_years'].unique())"
   ]
  },
  {
   "cell_type": "code",
   "execution_count": null,
   "metadata": {
    "id": "9w9096W_rA0v",
    "outputId": "cf413492-926a-4b19-98c0-35062d7773ee"
   },
   "outputs": [
    {
     "data": {
      "text/plain": [
       "<matplotlib.axes._subplots.AxesSubplot at 0x7fe4f0749c50>"
      ]
     },
     "execution_count": 18,
     "metadata": {
      "tags": []
     },
     "output_type": "execute_result"
    },
    {
     "data": {
      "image/png": "[encoded data removed]",
      "text/plain": [
       "<Figure size 432x288 with 1 Axes>"
      ]
     },
     "metadata": {
      "needs_background": "light",
      "tags": []
     },
     "output_type": "display_data"
    }
   ],
   "source": [
    "bank_stat['dob_years'].hist()"
   ]
  },
  {
   "cell_type": "code",
   "execution_count": null,
   "metadata": {
    "id": "uKayb16MrA0w",
    "outputId": "1544208c-1457-4e11-ac42-19661732628a"
   },
   "outputs": [
    {
     "data": {
      "text/plain": [
       "<matplotlib.axes._subplots.AxesSubplot at 0x7fe4f06c6d50>"
      ]
     },
     "execution_count": 19,
     "metadata": {
      "tags": []
     },
     "output_type": "execute_result"
    },
    {
     "data": {
      "image/png": "[encoded data removed]",
      "text/plain": [
       "<Figure size 432x288 with 1 Axes>"
      ]
     },
     "metadata": {
      "needs_background": "light",
      "tags": []
     },
     "output_type": "display_data"
    }
   ],
   "source": [
    "bank_stat[bank_stat['days_employed_in_years']<100].plot.scatter('dob_years', 'days_employed_in_years')"
   ]
  },
  {
   "cell_type": "markdown",
   "metadata": {
    "id": "LCt5NpS6rA0y"
   },
   "source": [
    "Исходя из этих таблиц, я бы разделила столбец возраста на такие подкатегории: 18-23, 23-30, 30-38, 38-53, 53-75."
   ]
  },
  {
   "cell_type": "code",
   "execution_count": null,
   "metadata": {
    "id": "9IoSVoTrrA0z"
   },
   "outputs": [],
   "source": [
    "bank_stat['dob_years_category']  = pd.cut(bank_stat['dob_years'], [18,23,30,38,53,75]) "
   ]
  },
  {
   "cell_type": "markdown",
   "metadata": {
    "id": "x8-aj65BrA00"
   },
   "source": [
    "Построим сводную таблицу:"
   ]
  },
  {
   "cell_type": "code",
   "execution_count": null,
   "metadata": {
    "id": "DJsLBFagrA01",
    "outputId": "552cd285-ab74-4a35-f1c9-a38f5fb25893"
   },
   "outputs": [
    {
     "data": {
      "text/html": [
       "<div>\n",
       "<style scoped>\n",
       "    .dataframe tbody tr th:only-of-type {\n",
       "        vertical-align: middle;\n",
       "    }\n",
       "\n",
       "    .dataframe tbody tr th {\n",
       "        vertical-align: top;\n",
       "    }\n",
       "\n",
       "    .dataframe thead th {\n",
       "        text-align: right;\n",
       "    }\n",
       "</style>\n",
       "<table border=\"1\" class=\"dataframe\">\n",
       "  <thead>\n",
       "    <tr style=\"text-align: right;\">\n",
       "      <th></th>\n",
       "      <th>count</th>\n",
       "      <th>mean</th>\n",
       "      <th>median</th>\n",
       "    </tr>\n",
       "    <tr>\n",
       "      <th>dob_years_category</th>\n",
       "      <th></th>\n",
       "      <th></th>\n",
       "      <th></th>\n",
       "    </tr>\n",
       "  </thead>\n",
       "  <tbody>\n",
       "    <tr>\n",
       "      <td>(18, 23]</td>\n",
       "      <td>536</td>\n",
       "      <td>2.190293</td>\n",
       "      <td>1.879721</td>\n",
       "    </tr>\n",
       "    <tr>\n",
       "      <td>(23, 30]</td>\n",
       "      <td>2830</td>\n",
       "      <td>3.838018</td>\n",
       "      <td>3.161246</td>\n",
       "    </tr>\n",
       "    <tr>\n",
       "      <td>(30, 38]</td>\n",
       "      <td>4105</td>\n",
       "      <td>5.942103</td>\n",
       "      <td>4.355565</td>\n",
       "    </tr>\n",
       "    <tr>\n",
       "      <td>(38, 53]</td>\n",
       "      <td>7063</td>\n",
       "      <td>9.749336</td>\n",
       "      <td>6.228653</td>\n",
       "    </tr>\n",
       "    <tr>\n",
       "      <td>(53, 75]</td>\n",
       "      <td>4726</td>\n",
       "      <td>26.571325</td>\n",
       "      <td>37.000000</td>\n",
       "    </tr>\n",
       "  </tbody>\n",
       "</table>\n",
       "</div>"
      ],
      "text/plain": [
       "                    count       mean     median\n",
       "dob_years_category                             \n",
       "(18, 23]              536   2.190293   1.879721\n",
       "(23, 30]             2830   3.838018   3.161246\n",
       "(30, 38]             4105   5.942103   4.355565\n",
       "(38, 53]             7063   9.749336   6.228653\n",
       "(53, 75]             4726  26.571325  37.000000"
      ]
     },
     "execution_count": 21,
     "metadata": {
      "tags": []
     },
     "output_type": "execute_result"
    }
   ],
   "source": [
    "bank_stat.groupby('dob_years_category')['days_employed_in_years'].agg(('count', 'mean', 'median'))"
   ]
  },
  {
   "cell_type": "markdown",
   "metadata": {
    "id": "uQ9P1fZHrA03"
   },
   "source": [
    "Здесь нужно помнить о том, что всем пенсионерам, у которых был неадекватный трудовой стаж, мы поставили стаж 37 лет.\n",
    "\n"
   ]
  },
  {
   "cell_type": "markdown",
   "metadata": {
    "id": "zNnqtlPBrA04"
   },
   "source": [
    "Найдем все пропущенные в найденных подкатегориях значения и заполним их медианами трудового стажа для этой подкатегории."
   ]
  },
  {
   "cell_type": "code",
   "execution_count": null,
   "metadata": {
    "id": "PrTROeCVrA04",
    "outputId": "24c6592b-272b-4993-9c0f-121f58719d46"
   },
   "outputs": [
    {
     "name": "stdout",
     "output_type": "stream",
     "text": [
      "(38.0, 53.0]\n",
      "786\n",
      "(30.0, 38.0]\n",
      "456\n",
      "(23.0, 30.0]\n",
      "280\n",
      "(53.0, 75.0]\n",
      "565\n",
      "(18.0, 23.0]\n",
      "77\n",
      "nan\n",
      "0\n"
     ]
    },
    {
     "data": {
      "text/plain": [
       "10"
      ]
     },
     "execution_count": 22,
     "metadata": {
      "tags": []
     },
     "output_type": "execute_result"
    }
   ],
   "source": [
    "for t in bank_stat['dob_years_category'].unique():\n",
    "    print(t)\n",
    "    curr = bank_stat.loc[bank_stat['dob_years_category'] == t]\n",
    "    curr_median = curr['days_employed_in_years'].median()\n",
    "    print(curr.loc[curr['days_employed_in_years'].isna()].shape[0])\n",
    "    bank_stat.loc[bank_stat['dob_years_category'] == t, 'days_employed_in_years'] = curr['days_employed_in_years'].fillna(value = curr_median)\n",
    "    \n",
    "bank_stat['days_employed_in_years'].isna().sum()"
   ]
  },
  {
   "cell_type": "markdown",
   "metadata": {
    "id": "icx82svkrA06"
   },
   "source": [
    "После замены, у нас осталось 10 строк, где возраст равен нулю, а также есть пропуск в стаже работы. Найдем и избавимся от них (на данные это не повлияет, тк это всего 10 строк)."
   ]
  },
  {
   "cell_type": "code",
   "execution_count": null,
   "metadata": {
    "id": "vlvmft0FrA06",
    "outputId": "18ba0095-c963-40fc-e231-a92751dd5097"
   },
   "outputs": [
    {
     "data": {
      "text/plain": [
       "Int64Index([1890, 2284, 4064, 5014, 6411, 6670, 8574, 12403, 13741, 19829], dtype='int64')"
      ]
     },
     "execution_count": 23,
     "metadata": {
      "tags": []
     },
     "output_type": "execute_result"
    }
   ],
   "source": [
    "bank_stat.loc[(bank_stat['days_employed_in_years'].isna())].index"
   ]
  },
  {
   "cell_type": "code",
   "execution_count": null,
   "metadata": {
    "id": "nmknVYM-rA09"
   },
   "outputs": [],
   "source": [
    "bank_stat = bank_stat.drop(bank_stat.loc[(bank_stat['days_employed_in_years'].isna())].index)"
   ]
  },
  {
   "cell_type": "code",
   "execution_count": null,
   "metadata": {
    "id": "px-Sy6NXrA0-",
    "outputId": "10f3ae25-817c-4554-d55a-db2b8441bcf8"
   },
   "outputs": [
    {
     "data": {
      "text/plain": [
       "children                  0\n",
       "days_employed             0\n",
       "dob_years                 0\n",
       "education                 0\n",
       "education_id              0\n",
       "family_status             0\n",
       "family_status_id          0\n",
       "gender                    0\n",
       "income_type               0\n",
       "debt                      0\n",
       "total_income              0\n",
       "purpose                   0\n",
       "days_employed_in_years    0\n",
       "dob_years_category        0\n",
       "dtype: int64"
      ]
     },
     "execution_count": 25,
     "metadata": {
      "tags": []
     },
     "output_type": "execute_result"
    }
   ],
   "source": [
    "bank_stat.loc[(bank_stat['days_employed_in_years'].isna())].count()"
   ]
  },
  {
   "cell_type": "markdown",
   "metadata": {
    "id": "vt8dXDPWrA1A"
   },
   "source": [
    "С первым столбцом разобрались, перехожу ко второму - total_income."
   ]
  },
  {
   "cell_type": "code",
   "execution_count": null,
   "metadata": {
    "id": "GtEr9ikjrA1B",
    "outputId": "396cfef5-1e67-496e-b4a4-9dc8544620cc"
   },
   "outputs": [
    {
     "data": {
      "text/plain": [
       "2164"
      ]
     },
     "execution_count": 26,
     "metadata": {
      "tags": []
     },
     "output_type": "execute_result"
    }
   ],
   "source": [
    "bank_stat['total_income'].isna().sum()"
   ]
  },
  {
   "cell_type": "markdown",
   "metadata": {
    "id": "CsELl4PmrA1D"
   },
   "source": [
    "Интересно, что в столбце с типом занятости пропущенно столько же значений, сколько и в столбце с трудовым стажем.\n",
    "\n",
    "Посмотрим не одни ли и те же это значения."
   ]
  },
  {
   "cell_type": "code",
   "execution_count": null,
   "metadata": {
    "id": "yz1W6qU_rA1D",
    "outputId": "7fee6cd7-9854-4927-e484-52a031e4405c"
   },
   "outputs": [
    {
     "data": {
      "text/html": [
       "<div>\n",
       "<style scoped>\n",
       "    .dataframe tbody tr th:only-of-type {\n",
       "        vertical-align: middle;\n",
       "    }\n",
       "\n",
       "    .dataframe tbody tr th {\n",
       "        vertical-align: top;\n",
       "    }\n",
       "\n",
       "    .dataframe thead tr th {\n",
       "        text-align: left;\n",
       "    }\n",
       "\n",
       "    .dataframe thead tr:last-of-type th {\n",
       "        text-align: right;\n",
       "    }\n",
       "</style>\n",
       "<table border=\"1\" class=\"dataframe\">\n",
       "  <thead>\n",
       "    <tr>\n",
       "      <th></th>\n",
       "      <th colspan=\"8\" halign=\"left\">children</th>\n",
       "      <th colspan=\"2\" halign=\"left\">days_employed</th>\n",
       "      <th>...</th>\n",
       "      <th colspan=\"2\" halign=\"left\">total_income</th>\n",
       "      <th colspan=\"8\" halign=\"left\">days_employed_in_years</th>\n",
       "    </tr>\n",
       "    <tr>\n",
       "      <th></th>\n",
       "      <th>count</th>\n",
       "      <th>mean</th>\n",
       "      <th>std</th>\n",
       "      <th>min</th>\n",
       "      <th>25%</th>\n",
       "      <th>50%</th>\n",
       "      <th>75%</th>\n",
       "      <th>max</th>\n",
       "      <th>count</th>\n",
       "      <th>mean</th>\n",
       "      <th>...</th>\n",
       "      <th>75%</th>\n",
       "      <th>max</th>\n",
       "      <th>count</th>\n",
       "      <th>mean</th>\n",
       "      <th>std</th>\n",
       "      <th>min</th>\n",
       "      <th>25%</th>\n",
       "      <th>50%</th>\n",
       "      <th>75%</th>\n",
       "      <th>max</th>\n",
       "    </tr>\n",
       "    <tr>\n",
       "      <th>income_type</th>\n",
       "      <th></th>\n",
       "      <th></th>\n",
       "      <th></th>\n",
       "      <th></th>\n",
       "      <th></th>\n",
       "      <th></th>\n",
       "      <th></th>\n",
       "      <th></th>\n",
       "      <th></th>\n",
       "      <th></th>\n",
       "      <th></th>\n",
       "      <th></th>\n",
       "      <th></th>\n",
       "      <th></th>\n",
       "      <th></th>\n",
       "      <th></th>\n",
       "      <th></th>\n",
       "      <th></th>\n",
       "      <th></th>\n",
       "      <th></th>\n",
       "      <th></th>\n",
       "    </tr>\n",
       "  </thead>\n",
       "  <tbody>\n",
       "    <tr>\n",
       "      <td>госслужащий</td>\n",
       "      <td>147.0</td>\n",
       "      <td>0.687075</td>\n",
       "      <td>1.797269</td>\n",
       "      <td>0.0</td>\n",
       "      <td>0.0</td>\n",
       "      <td>0.0</td>\n",
       "      <td>1.0</td>\n",
       "      <td>20.0</td>\n",
       "      <td>0.0</td>\n",
       "      <td>NaN</td>\n",
       "      <td>...</td>\n",
       "      <td>NaN</td>\n",
       "      <td>NaN</td>\n",
       "      <td>147.0</td>\n",
       "      <td>9.789719</td>\n",
       "      <td>11.516544</td>\n",
       "      <td>1.879721</td>\n",
       "      <td>4.355565</td>\n",
       "      <td>6.228653</td>\n",
       "      <td>6.228653</td>\n",
       "      <td>37.0</td>\n",
       "    </tr>\n",
       "    <tr>\n",
       "      <td>компаньон</td>\n",
       "      <td>506.0</td>\n",
       "      <td>0.614625</td>\n",
       "      <td>1.669678</td>\n",
       "      <td>-1.0</td>\n",
       "      <td>0.0</td>\n",
       "      <td>0.0</td>\n",
       "      <td>1.0</td>\n",
       "      <td>20.0</td>\n",
       "      <td>0.0</td>\n",
       "      <td>NaN</td>\n",
       "      <td>...</td>\n",
       "      <td>NaN</td>\n",
       "      <td>NaN</td>\n",
       "      <td>506.0</td>\n",
       "      <td>8.784552</td>\n",
       "      <td>10.532306</td>\n",
       "      <td>1.879721</td>\n",
       "      <td>4.355565</td>\n",
       "      <td>6.228653</td>\n",
       "      <td>6.228653</td>\n",
       "      <td>37.0</td>\n",
       "    </tr>\n",
       "    <tr>\n",
       "      <td>пенсионер</td>\n",
       "      <td>410.0</td>\n",
       "      <td>0.165854</td>\n",
       "      <td>1.420012</td>\n",
       "      <td>-1.0</td>\n",
       "      <td>0.0</td>\n",
       "      <td>0.0</td>\n",
       "      <td>0.0</td>\n",
       "      <td>20.0</td>\n",
       "      <td>0.0</td>\n",
       "      <td>NaN</td>\n",
       "      <td>...</td>\n",
       "      <td>NaN</td>\n",
       "      <td>NaN</td>\n",
       "      <td>410.0</td>\n",
       "      <td>32.321016</td>\n",
       "      <td>11.101172</td>\n",
       "      <td>3.161246</td>\n",
       "      <td>37.000000</td>\n",
       "      <td>37.000000</td>\n",
       "      <td>37.000000</td>\n",
       "      <td>37.0</td>\n",
       "    </tr>\n",
       "    <tr>\n",
       "      <td>предприниматель</td>\n",
       "      <td>1.0</td>\n",
       "      <td>0.000000</td>\n",
       "      <td>NaN</td>\n",
       "      <td>0.0</td>\n",
       "      <td>0.0</td>\n",
       "      <td>0.0</td>\n",
       "      <td>0.0</td>\n",
       "      <td>0.0</td>\n",
       "      <td>0.0</td>\n",
       "      <td>NaN</td>\n",
       "      <td>...</td>\n",
       "      <td>NaN</td>\n",
       "      <td>NaN</td>\n",
       "      <td>1.0</td>\n",
       "      <td>37.000000</td>\n",
       "      <td>NaN</td>\n",
       "      <td>37.000000</td>\n",
       "      <td>37.000000</td>\n",
       "      <td>37.000000</td>\n",
       "      <td>37.000000</td>\n",
       "      <td>37.0</td>\n",
       "    </tr>\n",
       "    <tr>\n",
       "      <td>сотрудник</td>\n",
       "      <td>1100.0</td>\n",
       "      <td>0.651818</td>\n",
       "      <td>1.315425</td>\n",
       "      <td>-1.0</td>\n",
       "      <td>0.0</td>\n",
       "      <td>0.0</td>\n",
       "      <td>1.0</td>\n",
       "      <td>20.0</td>\n",
       "      <td>0.0</td>\n",
       "      <td>NaN</td>\n",
       "      <td>...</td>\n",
       "      <td>NaN</td>\n",
       "      <td>NaN</td>\n",
       "      <td>1100.0</td>\n",
       "      <td>8.767325</td>\n",
       "      <td>10.559850</td>\n",
       "      <td>1.879721</td>\n",
       "      <td>4.355565</td>\n",
       "      <td>6.228653</td>\n",
       "      <td>6.228653</td>\n",
       "      <td>37.0</td>\n",
       "    </tr>\n",
       "  </tbody>\n",
       "</table>\n",
       "<p>5 rows × 64 columns</p>\n",
       "</div>"
      ],
      "text/plain": [
       "                children                                                \\\n",
       "                   count      mean       std  min  25%  50%  75%   max   \n",
       "income_type                                                              \n",
       "госслужащий        147.0  0.687075  1.797269  0.0  0.0  0.0  1.0  20.0   \n",
       "компаньон          506.0  0.614625  1.669678 -1.0  0.0  0.0  1.0  20.0   \n",
       "пенсионер          410.0  0.165854  1.420012 -1.0  0.0  0.0  0.0  20.0   \n",
       "предприниматель      1.0  0.000000       NaN  0.0  0.0  0.0  0.0   0.0   \n",
       "сотрудник         1100.0  0.651818  1.315425 -1.0  0.0  0.0  1.0  20.0   \n",
       "\n",
       "                days_employed       ... total_income      \\\n",
       "                        count mean  ...          75% max   \n",
       "income_type                         ...                    \n",
       "госслужащий               0.0  NaN  ...          NaN NaN   \n",
       "компаньон                 0.0  NaN  ...          NaN NaN   \n",
       "пенсионер                 0.0  NaN  ...          NaN NaN   \n",
       "предприниматель           0.0  NaN  ...          NaN NaN   \n",
       "сотрудник                 0.0  NaN  ...          NaN NaN   \n",
       "\n",
       "                days_employed_in_years                                   \\\n",
       "                                 count       mean        std        min   \n",
       "income_type                                                               \n",
       "госслужащий                      147.0   9.789719  11.516544   1.879721   \n",
       "компаньон                        506.0   8.784552  10.532306   1.879721   \n",
       "пенсионер                        410.0  32.321016  11.101172   3.161246   \n",
       "предприниматель                    1.0  37.000000        NaN  37.000000   \n",
       "сотрудник                       1100.0   8.767325  10.559850   1.879721   \n",
       "\n",
       "                                                        \n",
       "                       25%        50%        75%   max  \n",
       "income_type                                             \n",
       "госслужащий       4.355565   6.228653   6.228653  37.0  \n",
       "компаньон         4.355565   6.228653   6.228653  37.0  \n",
       "пенсионер        37.000000  37.000000  37.000000  37.0  \n",
       "предприниматель  37.000000  37.000000  37.000000  37.0  \n",
       "сотрудник         4.355565   6.228653   6.228653  37.0  \n",
       "\n",
       "[5 rows x 64 columns]"
      ]
     },
     "execution_count": 27,
     "metadata": {
      "tags": []
     },
     "output_type": "execute_result"
    }
   ],
   "source": [
    "bank_stat.loc[(bank_stat['days_employed'].isna()) & (bank_stat['total_income'].isna())].groupby('income_type').describe()"
   ]
  },
  {
   "cell_type": "markdown",
   "metadata": {
    "id": "AEQQrdUCrA1F"
   },
   "source": [
    "Получаем точно такую же таблицу, а значит люди, которые предпочли не указывать свою заработную плату (ежемесячный доход) также предпочли не указывать и свой тип занятости."
   ]
  },
  {
   "cell_type": "code",
   "execution_count": null,
   "metadata": {
    "id": "OEc2oF3jrA1F",
    "outputId": "1be32124-b942-4d0e-a152-ec23668c348e"
   },
   "outputs": [
    {
     "data": {
      "text/html": [
       "<div>\n",
       "<style scoped>\n",
       "    .dataframe tbody tr th:only-of-type {\n",
       "        vertical-align: middle;\n",
       "    }\n",
       "\n",
       "    .dataframe tbody tr th {\n",
       "        vertical-align: top;\n",
       "    }\n",
       "\n",
       "    .dataframe thead th {\n",
       "        text-align: right;\n",
       "    }\n",
       "</style>\n",
       "<table border=\"1\" class=\"dataframe\">\n",
       "  <thead>\n",
       "    <tr style=\"text-align: right;\">\n",
       "      <th></th>\n",
       "      <th>count</th>\n",
       "      <th>mean</th>\n",
       "      <th>std</th>\n",
       "      <th>min</th>\n",
       "      <th>25%</th>\n",
       "      <th>50%</th>\n",
       "      <th>75%</th>\n",
       "      <th>max</th>\n",
       "    </tr>\n",
       "    <tr>\n",
       "      <th>income_type</th>\n",
       "      <th></th>\n",
       "      <th></th>\n",
       "      <th></th>\n",
       "      <th></th>\n",
       "      <th></th>\n",
       "      <th></th>\n",
       "      <th></th>\n",
       "      <th></th>\n",
       "    </tr>\n",
       "  </thead>\n",
       "  <tbody>\n",
       "    <tr>\n",
       "      <td>безработный</td>\n",
       "      <td>2.0</td>\n",
       "      <td>131339.751676</td>\n",
       "      <td>100950.466876</td>\n",
       "      <td>59956.991984</td>\n",
       "      <td>95648.371830</td>\n",
       "      <td>131339.751676</td>\n",
       "      <td>167031.131522</td>\n",
       "      <td>2.027225e+05</td>\n",
       "    </tr>\n",
       "    <tr>\n",
       "      <td>в декрете</td>\n",
       "      <td>1.0</td>\n",
       "      <td>53829.130729</td>\n",
       "      <td>NaN</td>\n",
       "      <td>53829.130729</td>\n",
       "      <td>53829.130729</td>\n",
       "      <td>53829.130729</td>\n",
       "      <td>53829.130729</td>\n",
       "      <td>5.382913e+04</td>\n",
       "    </tr>\n",
       "    <tr>\n",
       "      <td>госслужащий</td>\n",
       "      <td>1312.0</td>\n",
       "      <td>170898.309923</td>\n",
       "      <td>96878.763554</td>\n",
       "      <td>29200.077193</td>\n",
       "      <td>105294.668418</td>\n",
       "      <td>150447.935283</td>\n",
       "      <td>209173.052434</td>\n",
       "      <td>9.104515e+05</td>\n",
       "    </tr>\n",
       "    <tr>\n",
       "      <td>компаньон</td>\n",
       "      <td>4577.0</td>\n",
       "      <td>202417.461462</td>\n",
       "      <td>130481.095793</td>\n",
       "      <td>28702.812889</td>\n",
       "      <td>125887.745820</td>\n",
       "      <td>172357.950966</td>\n",
       "      <td>243907.839199</td>\n",
       "      <td>2.265604e+06</td>\n",
       "    </tr>\n",
       "    <tr>\n",
       "      <td>пенсионер</td>\n",
       "      <td>3443.0</td>\n",
       "      <td>137127.465690</td>\n",
       "      <td>80246.953231</td>\n",
       "      <td>20667.263793</td>\n",
       "      <td>82881.443465</td>\n",
       "      <td>118514.486412</td>\n",
       "      <td>169700.433010</td>\n",
       "      <td>7.351033e+05</td>\n",
       "    </tr>\n",
       "    <tr>\n",
       "      <td>предприниматель</td>\n",
       "      <td>1.0</td>\n",
       "      <td>499163.144947</td>\n",
       "      <td>NaN</td>\n",
       "      <td>499163.144947</td>\n",
       "      <td>499163.144947</td>\n",
       "      <td>499163.144947</td>\n",
       "      <td>499163.144947</td>\n",
       "      <td>4.991631e+05</td>\n",
       "    </tr>\n",
       "    <tr>\n",
       "      <td>сотрудник</td>\n",
       "      <td>10014.0</td>\n",
       "      <td>161380.260488</td>\n",
       "      <td>91322.514795</td>\n",
       "      <td>21367.648356</td>\n",
       "      <td>102795.633631</td>\n",
       "      <td>142594.396847</td>\n",
       "      <td>196828.082600</td>\n",
       "      <td>1.726276e+06</td>\n",
       "    </tr>\n",
       "    <tr>\n",
       "      <td>студент</td>\n",
       "      <td>1.0</td>\n",
       "      <td>98201.625314</td>\n",
       "      <td>NaN</td>\n",
       "      <td>98201.625314</td>\n",
       "      <td>98201.625314</td>\n",
       "      <td>98201.625314</td>\n",
       "      <td>98201.625314</td>\n",
       "      <td>9.820163e+04</td>\n",
       "    </tr>\n",
       "  </tbody>\n",
       "</table>\n",
       "</div>"
      ],
      "text/plain": [
       "                   count           mean            std            min  \\\n",
       "income_type                                                             \n",
       "безработный          2.0  131339.751676  100950.466876   59956.991984   \n",
       "в декрете            1.0   53829.130729            NaN   53829.130729   \n",
       "госслужащий       1312.0  170898.309923   96878.763554   29200.077193   \n",
       "компаньон         4577.0  202417.461462  130481.095793   28702.812889   \n",
       "пенсионер         3443.0  137127.465690   80246.953231   20667.263793   \n",
       "предприниматель      1.0  499163.144947            NaN  499163.144947   \n",
       "сотрудник        10014.0  161380.260488   91322.514795   21367.648356   \n",
       "студент              1.0   98201.625314            NaN   98201.625314   \n",
       "\n",
       "                           25%            50%            75%           max  \n",
       "income_type                                                                 \n",
       "безработный       95648.371830  131339.751676  167031.131522  2.027225e+05  \n",
       "в декрете         53829.130729   53829.130729   53829.130729  5.382913e+04  \n",
       "госслужащий      105294.668418  150447.935283  209173.052434  9.104515e+05  \n",
       "компаньон        125887.745820  172357.950966  243907.839199  2.265604e+06  \n",
       "пенсионер         82881.443465  118514.486412  169700.433010  7.351033e+05  \n",
       "предприниматель  499163.144947  499163.144947  499163.144947  4.991631e+05  \n",
       "сотрудник        102795.633631  142594.396847  196828.082600  1.726276e+06  \n",
       "студент           98201.625314   98201.625314   98201.625314  9.820163e+04  "
      ]
     },
     "execution_count": 28,
     "metadata": {
      "tags": []
     },
     "output_type": "execute_result"
    }
   ],
   "source": [
    "bank_stat.groupby('income_type')['total_income'].describe()"
   ]
  },
  {
   "cell_type": "markdown",
   "metadata": {
    "id": "HBKzEnUDrA1H"
   },
   "source": [
    "Пропуски здесь - это те же 10% всех данных, но на этот раз их логичнее будет заменить медианой дохода по категории занятости (тк доход чаще всего связан с занимаемой должностью)."
   ]
  },
  {
   "cell_type": "code",
   "execution_count": null,
   "metadata": {
    "id": "Hdqxp3yhrA1I",
    "outputId": "9600d1f4-888a-4b1d-bf67-a0318e3e6691"
   },
   "outputs": [
    {
     "name": "stdout",
     "output_type": "stream",
     "text": [
      "сотрудник\n",
      "1100\n",
      "пенсионер\n",
      "410\n",
      "компаньон\n",
      "506\n",
      "госслужащий\n",
      "147\n",
      "безработный\n",
      "0\n",
      "предприниматель\n",
      "1\n",
      "студент\n",
      "0\n",
      "в декрете\n",
      "0\n"
     ]
    },
    {
     "data": {
      "text/plain": [
       "0"
      ]
     },
     "execution_count": 29,
     "metadata": {
      "tags": []
     },
     "output_type": "execute_result"
    }
   ],
   "source": [
    "for t in bank_stat['income_type'].unique():\n",
    "    print(t)\n",
    "    curr = bank_stat.loc[bank_stat['income_type'] == t]\n",
    "    curr_median = curr['total_income'].median()\n",
    "    print(curr.loc[curr['total_income'].isna()].shape[0])\n",
    "    bank_stat.loc[bank_stat['income_type'] == t, 'total_income'] = curr['total_income'].fillna(value = curr_median)\n",
    "    \n",
    "bank_stat['total_income'].isna().sum()"
   ]
  },
  {
   "cell_type": "markdown",
   "metadata": {
    "id": "mIaM9KjOrA1K"
   },
   "source": [
    "### **Вывод**\n",
    "\n",
    "Были удалены пропуски в столбце days_employed_in_years (days_employed в годах) и в столбце total_income, а также были предобработанны данные в столбце days_employed_in_years (отрицательные значения были заменены положительными и слишком большие значения были заменены на медианные значения по категориям).\n",
    "Пропуски в двух столбцах были связаны (то есть находились в одних и тех же строчках), так что можно предположить, что люди, которые не хотят рассказывать о своем заработке, также не хотят говорить о своем трудовом стаже."
   ]
  },
  {
   "cell_type": "markdown",
   "metadata": {
    "id": "7WKHEWWWrA1K"
   },
   "source": [
    "### **3. Замена типа данных**"
   ]
  },
  {
   "cell_type": "code",
   "execution_count": null,
   "metadata": {
    "id": "MwSBS6GgrA1L",
    "outputId": "6d3c072c-ec32-4a4e-a5ba-1db998ad9013",
    "scrolled": true
   },
   "outputs": [
    {
     "name": "stdout",
     "output_type": "stream",
     "text": [
      "<class 'pandas.core.frame.DataFrame'>\n",
      "Int64Index: 21515 entries, 0 to 21524\n",
      "Data columns (total 14 columns):\n",
      "children                  21515 non-null int64\n",
      "days_employed             19351 non-null float64\n",
      "dob_years                 21515 non-null int64\n",
      "education                 21515 non-null object\n",
      "education_id              21515 non-null int64\n",
      "family_status             21515 non-null object\n",
      "family_status_id          21515 non-null int64\n",
      "gender                    21515 non-null object\n",
      "income_type               21515 non-null object\n",
      "debt                      21515 non-null int64\n",
      "total_income              21515 non-null float64\n",
      "purpose                   21515 non-null object\n",
      "days_employed_in_years    21515 non-null float64\n",
      "dob_years_category        21424 non-null category\n",
      "dtypes: category(1), float64(3), int64(5), object(5)\n",
      "memory usage: 2.3+ MB\n"
     ]
    }
   ],
   "source": [
    "bank_stat.info()"
   ]
  },
  {
   "cell_type": "markdown",
   "metadata": {
    "id": "CSq1qM4jrA1M"
   },
   "source": [
    "Столбец days_employed и столбец total_income имеют тип float64, но такая точность в данном случае только мешает восприятию информации - лучше заменить их на int64 (целочисленное значение)."
   ]
  },
  {
   "cell_type": "code",
   "execution_count": null,
   "metadata": {
    "id": "fhiTa13NrA1N"
   },
   "outputs": [],
   "source": [
    "bank_stat['days_employed_in_years'] = bank_stat['days_employed_in_years'].astype('int64')"
   ]
  },
  {
   "cell_type": "code",
   "execution_count": null,
   "metadata": {
    "id": "-iO8ErzzrA1O"
   },
   "outputs": [],
   "source": [
    "bank_stat['total_income'] = bank_stat['total_income'].astype('int64')"
   ]
  },
  {
   "cell_type": "code",
   "execution_count": null,
   "metadata": {
    "id": "-gD0RA6orA1Q",
    "outputId": "f0f7874f-ca3c-4d0c-b765-d674f559838a"
   },
   "outputs": [
    {
     "name": "stdout",
     "output_type": "stream",
     "text": [
      "<class 'pandas.core.frame.DataFrame'>\n",
      "Int64Index: 21515 entries, 0 to 21524\n",
      "Data columns (total 14 columns):\n",
      "children                  21515 non-null int64\n",
      "days_employed             19351 non-null float64\n",
      "dob_years                 21515 non-null int64\n",
      "education                 21515 non-null object\n",
      "education_id              21515 non-null int64\n",
      "family_status             21515 non-null object\n",
      "family_status_id          21515 non-null int64\n",
      "gender                    21515 non-null object\n",
      "income_type               21515 non-null object\n",
      "debt                      21515 non-null int64\n",
      "total_income              21515 non-null int64\n",
      "purpose                   21515 non-null object\n",
      "days_employed_in_years    21515 non-null int64\n",
      "dob_years_category        21424 non-null category\n",
      "dtypes: category(1), float64(1), int64(7), object(5)\n",
      "memory usage: 2.3+ MB\n"
     ]
    }
   ],
   "source": [
    "bank_stat.info()"
   ]
  },
  {
   "cell_type": "markdown",
   "metadata": {
    "id": "RFuRwRNGrA1S"
   },
   "source": [
    "### **Вывод**"
   ]
  },
  {
   "cell_type": "markdown",
   "metadata": {
    "id": "VKyiObIcrA1S"
   },
   "source": [
    "Данные в столбцах days_employed и столбец total_income были заменены на целочисленные."
   ]
  },
  {
   "cell_type": "markdown",
   "metadata": {
    "id": "97OdLjrKrA1T"
   },
   "source": [
    "### **4. Обработка дубликатов**"
   ]
  },
  {
   "cell_type": "markdown",
   "metadata": {
    "id": "m37DW446rA1U"
   },
   "source": [
    "Чтобы посмотреть есть ли в таблице дубликаты - нужно привести все строки к нижнему регистру."
   ]
  },
  {
   "cell_type": "code",
   "execution_count": null,
   "metadata": {
    "id": "eC7ZEb5vrA1Y",
    "outputId": "fbceb73b-57d2-4f5b-ff9e-e50537f79f64"
   },
   "outputs": [
    {
     "data": {
      "text/plain": [
       "среднее                13743\n",
       "высшее                  4716\n",
       "СРЕДНЕЕ                  772\n",
       "Среднее                  711\n",
       "неоконченное высшее      668\n",
       "ВЫСШЕЕ                   274\n",
       "Высшее                   267\n",
       "начальное                250\n",
       "Неоконченное высшее       47\n",
       "НЕОКОНЧЕННОЕ ВЫСШЕЕ       29\n",
       "НАЧАЛЬНОЕ                 17\n",
       "Начальное                 15\n",
       "ученая степень             4\n",
       "УЧЕНАЯ СТЕПЕНЬ             1\n",
       "Ученая степень             1\n",
       "Name: education, dtype: int64"
      ]
     },
     "execution_count": 34,
     "metadata": {
      "tags": []
     },
     "output_type": "execute_result"
    }
   ],
   "source": [
    "bank_stat['education'].value_counts()"
   ]
  },
  {
   "cell_type": "markdown",
   "metadata": {
    "id": "oR7Us5lLrA1a"
   },
   "source": [
    "Проверили уникальные значения в столбце образования - здесь нашлось много одинаковых значений в разном регистре.\n",
    "\n",
    "Исправим это:"
   ]
  },
  {
   "cell_type": "code",
   "execution_count": null,
   "metadata": {
    "id": "JIsVb0BMrA1b",
    "outputId": "d512e54e-c890-4156-c46d-5369c2cec0f3"
   },
   "outputs": [
    {
     "data": {
      "text/plain": [
       "среднее                15226\n",
       "высшее                  5257\n",
       "неоконченное высшее      744\n",
       "начальное                282\n",
       "ученая степень             6\n",
       "Name: education, dtype: int64"
      ]
     },
     "execution_count": 35,
     "metadata": {
      "tags": []
     },
     "output_type": "execute_result"
    }
   ],
   "source": [
    "bank_stat['education'] = bank_stat['education'].str.lower()\n",
    "bank_stat['education'].value_counts()"
   ]
  },
  {
   "cell_type": "markdown",
   "metadata": {
    "id": "yhpopWosrA1d"
   },
   "source": [
    "Теперь проверим также все остальные строковые столбцы: family_status, gender, income_type и purpose."
   ]
  },
  {
   "cell_type": "code",
   "execution_count": null,
   "metadata": {
    "id": "OBiB8QHArA1d",
    "outputId": "283afc4f-0620-48e6-86b3-047ac7965b60"
   },
   "outputs": [
    {
     "data": {
      "text/plain": [
       "женат / замужем          12376\n",
       "гражданский брак          4174\n",
       "Не женат / не замужем     2812\n",
       "в разводе                 1194\n",
       "вдовец / вдова             959\n",
       "Name: family_status, dtype: int64"
      ]
     },
     "execution_count": 36,
     "metadata": {
      "tags": []
     },
     "output_type": "execute_result"
    }
   ],
   "source": [
    "bank_stat['family_status'].value_counts()"
   ]
  },
  {
   "cell_type": "markdown",
   "metadata": {
    "id": "YzuYlNbOrA1f"
   },
   "source": [
    "В столбце family_status все в порядке."
   ]
  },
  {
   "cell_type": "code",
   "execution_count": null,
   "metadata": {
    "id": "3xxfFj6frA1g",
    "outputId": "7a919100-6083-4d94-b93a-2f2af08f00a3"
   },
   "outputs": [
    {
     "data": {
      "text/plain": [
       "F      14228\n",
       "M       7286\n",
       "XNA        1\n",
       "Name: gender, dtype: int64"
      ]
     },
     "execution_count": 37,
     "metadata": {
      "tags": []
     },
     "output_type": "execute_result"
    }
   ],
   "source": [
    "bank_stat['gender'].value_counts()"
   ]
  },
  {
   "cell_type": "markdown",
   "metadata": {
    "id": "vk9cPYfmrA1i"
   },
   "source": [
    "В столбце gender нашлось необычное значение XNA, но тк оно одно - можно его не обрабтывать, на общую выборку оно не повлияет."
   ]
  },
  {
   "cell_type": "code",
   "execution_count": null,
   "metadata": {
    "id": "Pmt7s_1orA1i",
    "outputId": "e1dae3da-c2c6-49ff-995d-82ab9aba2278"
   },
   "outputs": [
    {
     "data": {
      "text/plain": [
       "сотрудник          11114\n",
       "компаньон           5083\n",
       "пенсионер           3853\n",
       "госслужащий         1459\n",
       "безработный            2\n",
       "предприниматель        2\n",
       "в декрете              1\n",
       "студент                1\n",
       "Name: income_type, dtype: int64"
      ]
     },
     "execution_count": 38,
     "metadata": {
      "tags": []
     },
     "output_type": "execute_result"
    }
   ],
   "source": [
    "bank_stat['income_type'].value_counts()"
   ]
  },
  {
   "cell_type": "markdown",
   "metadata": {
    "id": "PE4XF2OFrA1l"
   },
   "source": [
    "В столбце income_type тоже все в порядке."
   ]
  },
  {
   "cell_type": "code",
   "execution_count": null,
   "metadata": {
    "id": "KsyhV3TFrA1l",
    "outputId": "61da4764-5ad0-4726-86ee-02cb6f261499"
   },
   "outputs": [
    {
     "data": {
      "text/plain": [
       "array(['покупка жилья', 'приобретение автомобиля',\n",
       "       'дополнительное образование', 'сыграть свадьбу',\n",
       "       'операции с жильем', 'образование', 'на проведение свадьбы',\n",
       "       'покупка жилья для семьи', 'покупка недвижимости',\n",
       "       'покупка коммерческой недвижимости', 'покупка жилой недвижимости',\n",
       "       'строительство собственной недвижимости', 'недвижимость',\n",
       "       'строительство недвижимости', 'на покупку подержанного автомобиля',\n",
       "       'на покупку своего автомобиля',\n",
       "       'операции с коммерческой недвижимостью',\n",
       "       'строительство жилой недвижимости', 'жилье',\n",
       "       'операции со своей недвижимостью', 'автомобили',\n",
       "       'заняться образованием', 'сделка с подержанным автомобилем',\n",
       "       'получение образования', 'автомобиль', 'свадьба',\n",
       "       'получение дополнительного образования', 'покупка своего жилья',\n",
       "       'операции с недвижимостью', 'получение высшего образования',\n",
       "       'свой автомобиль', 'сделка с автомобилем',\n",
       "       'профильное образование', 'высшее образование',\n",
       "       'покупка жилья для сдачи', 'на покупку автомобиля', 'ремонт жилью',\n",
       "       'заняться высшим образованием'], dtype=object)"
      ]
     },
     "execution_count": 39,
     "metadata": {
      "tags": []
     },
     "output_type": "execute_result"
    }
   ],
   "source": [
    "purpose_unique_values = bank_stat['purpose'].unique()\n",
    "purpose_unique_values"
   ]
  },
  {
   "cell_type": "markdown",
   "metadata": {
    "id": "iVdiT0EQrA1n"
   },
   "source": [
    "В столбце purpose очень много одинаковых по сути причин взятия кредита, но написанных разными словами, с ним можно дальше поработать с помощью лемматизации."
   ]
  },
  {
   "cell_type": "markdown",
   "metadata": {
    "id": "o7EdIXvkrA1n"
   },
   "source": [
    "Вернемся к задаче удаления дубликатов. Для начала посчитаем их количество."
   ]
  },
  {
   "cell_type": "code",
   "execution_count": null,
   "metadata": {
    "id": "dVPRu8uLrA1n",
    "outputId": "e5fdec80-370f-45a3-cdfc-ff6055155df9",
    "scrolled": false
   },
   "outputs": [
    {
     "data": {
      "text/plain": [
       "71"
      ]
     },
     "execution_count": 40,
     "metadata": {
      "tags": []
     },
     "output_type": "execute_result"
    }
   ],
   "source": [
    "bank_stat.duplicated().sum()"
   ]
  },
  {
   "cell_type": "markdown",
   "metadata": {
    "id": "ig-b_UEJrA1q"
   },
   "source": [
    "Удалим все найденные дубликаты:"
   ]
  },
  {
   "cell_type": "code",
   "execution_count": null,
   "metadata": {
    "id": "Ye4Yx2KQrA1q"
   },
   "outputs": [],
   "source": [
    "bank_stat = bank_stat.drop_duplicates()"
   ]
  },
  {
   "cell_type": "markdown",
   "metadata": {
    "id": "Pxq0ZNdGrA1s"
   },
   "source": [
    "Проверим, что дубликатов не осталось:"
   ]
  },
  {
   "cell_type": "code",
   "execution_count": null,
   "metadata": {
    "id": "E0nmBjQKrA1s",
    "outputId": "9226ea4e-df44-491a-8833-db46c4268fc9"
   },
   "outputs": [
    {
     "data": {
      "text/plain": [
       "0"
      ]
     },
     "execution_count": 42,
     "metadata": {
      "tags": []
     },
     "output_type": "execute_result"
    }
   ],
   "source": [
    "bank_stat.duplicated().sum()"
   ]
  },
  {
   "cell_type": "markdown",
   "metadata": {
    "id": "Lp6FiNZzrA1u"
   },
   "source": [
    "### **Вывод**\n",
    "Слова в строковых столбцах были приведены к нижнему регистру, а также были удалены дубликаты."
   ]
  },
  {
   "cell_type": "markdown",
   "metadata": {
    "id": "kcEH_KwJrA1u"
   },
   "source": [
    "### **5. Лемматизация**"
   ]
  },
  {
   "cell_type": "markdown",
   "metadata": {
    "id": "ZmW0USb0rA1u"
   },
   "source": [
    "Как было выяснено выше, нужно лемматизировать столбец purpose, чтобы привести цели кредита к единым категориям.\n",
    "Используем .lemmatize() для приведения слов к их словарным формам."
   ]
  },
  {
   "cell_type": "code",
   "execution_count": null,
   "metadata": {
    "id": "vRcYg4n-rA1w",
    "outputId": "c4864f3e-fba1-44c6-b5bd-52750853a309"
   },
   "outputs": [
    {
     "name": "stdout",
     "output_type": "stream",
     "text": [
      "['покупка', ' ', 'жилье', '\\n']\n",
      "['приобретение', ' ', 'автомобиль', '\\n']\n",
      "['дополнительный', ' ', 'образование', '\\n']\n",
      "['сыграть', ' ', 'свадьба', '\\n']\n",
      "['операция', ' ', 'с', ' ', 'жилье', '\\n']\n",
      "['образование', '\\n']\n",
      "['на', ' ', 'проведение', ' ', 'свадьба', '\\n']\n",
      "['покупка', ' ', 'жилье', ' ', 'для', ' ', 'семья', '\\n']\n",
      "['покупка', ' ', 'недвижимость', '\\n']\n",
      "['покупка', ' ', 'коммерческий', ' ', 'недвижимость', '\\n']\n",
      "['покупка', ' ', 'жилой', ' ', 'недвижимость', '\\n']\n",
      "['строительство', ' ', 'собственный', ' ', 'недвижимость', '\\n']\n",
      "['недвижимость', '\\n']\n",
      "['строительство', ' ', 'недвижимость', '\\n']\n",
      "['на', ' ', 'покупка', ' ', 'подержать', ' ', 'автомобиль', '\\n']\n",
      "['на', ' ', 'покупка', ' ', 'свой', ' ', 'автомобиль', '\\n']\n",
      "['операция', ' ', 'с', ' ', 'коммерческий', ' ', 'недвижимость', '\\n']\n",
      "['строительство', ' ', 'жилой', ' ', 'недвижимость', '\\n']\n",
      "['жилье', '\\n']\n",
      "['операция', ' ', 'со', ' ', 'свой', ' ', 'недвижимость', '\\n']\n",
      "['автомобиль', '\\n']\n",
      "['заниматься', ' ', 'образование', '\\n']\n",
      "['сделка', ' ', 'с', ' ', 'подержанный', ' ', 'автомобиль', '\\n']\n",
      "['получение', ' ', 'образование', '\\n']\n",
      "['автомобиль', '\\n']\n",
      "['свадьба', '\\n']\n",
      "['получение', ' ', 'дополнительный', ' ', 'образование', '\\n']\n",
      "['покупка', ' ', 'свой', ' ', 'жилье', '\\n']\n",
      "['операция', ' ', 'с', ' ', 'недвижимость', '\\n']\n",
      "['получение', ' ', 'высокий', ' ', 'образование', '\\n']\n",
      "['свой', ' ', 'автомобиль', '\\n']\n",
      "['сделка', ' ', 'с', ' ', 'автомобиль', '\\n']\n",
      "['профильный', ' ', 'образование', '\\n']\n",
      "['высокий', ' ', 'образование', '\\n']\n",
      "['покупка', ' ', 'жилье', ' ', 'для', ' ', 'сдача', '\\n']\n",
      "['на', ' ', 'покупка', ' ', 'автомобиль', '\\n']\n",
      "['ремонт', ' ', 'жилье', '\\n']\n",
      "['заниматься', ' ', 'высокий', ' ', 'образование', '\\n']\n"
     ]
    }
   ],
   "source": [
    "from pymystem3 import Mystem\n",
    "m = Mystem()\n",
    "all_lemmas = []\n",
    "for lemma in purpose_unique_values:\n",
    "    lemmas = m.lemmatize(lemma)\n",
    "    all_lemmas += lemmas\n",
    "    print(lemmas)"
   ]
  },
  {
   "cell_type": "markdown",
   "metadata": {
    "id": "vuGszajErA1x"
   },
   "source": [
    "### **Вывод**"
   ]
  },
  {
   "cell_type": "markdown",
   "metadata": {
    "id": "W2gEnU3TrA1x"
   },
   "source": [
    "Была произведена лемматизация столбца purpose используя lemmatize, теперь у нас есть список слов в их изначальных словоформах, которые уже будет легче категоризовать."
   ]
  },
  {
   "cell_type": "markdown",
   "metadata": {
    "id": "d6Bsd2oRrA1y"
   },
   "source": [
    "### **6. Категоризация данных**"
   ]
  },
  {
   "cell_type": "markdown",
   "metadata": {
    "id": "WWM28T4WrA1y"
   },
   "source": [
    "Используем Counter для подсчета наиболее встречающихся слов:"
   ]
  },
  {
   "cell_type": "code",
   "execution_count": null,
   "metadata": {
    "id": "BIoTObUNrA1z",
    "outputId": "93be2622-bc05-4bc4-b720-2b953dcf4d6a"
   },
   "outputs": [
    {
     "name": "stdout",
     "output_type": "stream",
     "text": [
      "Counter({' ': 59, '\\n': 38, 'покупка': 10, 'недвижимость': 10, 'автомобиль': 9, 'образование': 9, 'жилье': 7, 'с': 5, 'операция': 4, 'на': 4, 'свой': 4, 'свадьба': 3, 'строительство': 3, 'получение': 3, 'высокий': 3, 'дополнительный': 2, 'для': 2, 'коммерческий': 2, 'жилой': 2, 'заниматься': 2, 'сделка': 2, 'приобретение': 1, 'сыграть': 1, 'проведение': 1, 'семья': 1, 'собственный': 1, 'подержать': 1, 'со': 1, 'подержанный': 1, 'профильный': 1, 'сдача': 1, 'ремонт': 1})\n"
     ]
    }
   ],
   "source": [
    "from collections import Counter\n",
    "print(Counter(all_lemmas))"
   ]
  },
  {
   "cell_type": "markdown",
   "metadata": {
    "id": "UTUNw6o9rA11"
   },
   "source": [
    "Из списка выпишем все цели: недвижимость, автомобиль, образование, жилье, свадьба (можно было бы еще выделить \"строительство\", но если посмотреть на изначальные формы - то это обычно строительство жилья, а жилье у нас уже есть).\n",
    "\n",
    "Приведем все строки к выбранным выше категориям с помощью функции."
   ]
  },
  {
   "cell_type": "code",
   "execution_count": null,
   "metadata": {
    "id": "wko1xu73rA11",
    "outputId": "5ed95344-5390-488b-dbce-a5991f9a79b6"
   },
   "outputs": [
    {
     "data": {
      "text/plain": [
       "недвижимость    10803\n",
       "автомобиль       4306\n",
       "образование      4013\n",
       "свадьба          2322\n",
       "Name: clean_purpose, dtype: int64"
      ]
     },
     "execution_count": 45,
     "metadata": {
      "tags": []
     },
     "output_type": "execute_result"
    }
   ],
   "source": [
    "def categorize_purpose(row):\n",
    "    data = m.lemmatize(row)\n",
    "    if 'жилье' in data:\n",
    "        return 'недвижимость'\n",
    "    if 'автомобиль' in data:\n",
    "        return 'автомобиль'\n",
    "    if 'образование' in data:\n",
    "        return 'образование'\n",
    "    if 'недвижимость' in data:\n",
    "        return 'недвижимость'\n",
    "    if 'свадьба' in data:\n",
    "        return 'свадьба'\n",
    "    return data \n",
    "\n",
    "bank_stat['clean_purpose'] = bank_stat['purpose'].map(categorize_purpose)\n",
    "bank_stat['clean_purpose'].value_counts()"
   ]
  },
  {
   "cell_type": "markdown",
   "metadata": {
    "id": "Z2x8jtc4rA13"
   },
   "source": [
    "### **Вывод**"
   ]
  },
  {
   "cell_type": "markdown",
   "metadata": {
    "id": "eYGAkI_qrA13"
   },
   "source": [
    "Теперь с данными в столбце purpose удобно работать - они все приведены к 4ем категориям. "
   ]
  },
  {
   "cell_type": "markdown",
   "metadata": {
    "id": "MtL0bfg4pbej"
   },
   "source": [
    "**Данные в таблице была предобработаны для анализа и можно еще раз посмотреть на изначальную задачу: Нужно разобраться, влияет ли семейное положение и количество детей клиента на факт погашения кредита в срок.**"
   ]
  },
  {
   "cell_type": "markdown",
   "metadata": {
    "id": "kk2_uwherA14"
   },
   "source": [
    "### **7. Находим зависимости возврата кредита**"
   ]
  },
  {
   "cell_type": "markdown",
   "metadata": {
    "id": "NgIPNzvNrA14"
   },
   "source": [
    "**7.1 Есть ли зависимость между наличием детей и возвратом кредита в срок?**"
   ]
  },
  {
   "cell_type": "markdown",
   "metadata": {
    "id": "jqNTZHqIrA14"
   },
   "source": [
    "Построим сводную таблицу зависимости детей и выплаты кредита в срок, посчитаем количество выплаченных и не выплаченных вовремя кредитов (если в столбце debt стоит 1 - есть задержка выплаты кредита)."
   ]
  },
  {
   "cell_type": "code",
   "execution_count": null,
   "metadata": {
    "id": "GeMxv5u1rA15",
    "outputId": "b3b84d9b-a6e3-4099-8630-420ad2699e62"
   },
   "outputs": [
    {
     "data": {
      "text/html": [
       "<div>\n",
       "<style scoped>\n",
       "    .dataframe tbody tr th:only-of-type {\n",
       "        vertical-align: middle;\n",
       "    }\n",
       "\n",
       "    .dataframe tbody tr th {\n",
       "        vertical-align: top;\n",
       "    }\n",
       "\n",
       "    .dataframe thead th {\n",
       "        text-align: right;\n",
       "    }\n",
       "</style>\n",
       "<table border=\"1\" class=\"dataframe\">\n",
       "  <thead>\n",
       "    <tr style=\"text-align: right;\">\n",
       "      <th>debt</th>\n",
       "      <th>0</th>\n",
       "      <th>1</th>\n",
       "    </tr>\n",
       "    <tr>\n",
       "      <th>children</th>\n",
       "      <th></th>\n",
       "      <th></th>\n",
       "    </tr>\n",
       "  </thead>\n",
       "  <tbody>\n",
       "    <tr>\n",
       "      <td>-1</td>\n",
       "      <td>46.0</td>\n",
       "      <td>1.0</td>\n",
       "    </tr>\n",
       "    <tr>\n",
       "      <td>0</td>\n",
       "      <td>13020.0</td>\n",
       "      <td>1063.0</td>\n",
       "    </tr>\n",
       "    <tr>\n",
       "      <td>1</td>\n",
       "      <td>4363.0</td>\n",
       "      <td>444.0</td>\n",
       "    </tr>\n",
       "    <tr>\n",
       "      <td>2</td>\n",
       "      <td>1858.0</td>\n",
       "      <td>194.0</td>\n",
       "    </tr>\n",
       "    <tr>\n",
       "      <td>3</td>\n",
       "      <td>302.0</td>\n",
       "      <td>27.0</td>\n",
       "    </tr>\n",
       "    <tr>\n",
       "      <td>4</td>\n",
       "      <td>37.0</td>\n",
       "      <td>4.0</td>\n",
       "    </tr>\n",
       "    <tr>\n",
       "      <td>5</td>\n",
       "      <td>9.0</td>\n",
       "      <td>NaN</td>\n",
       "    </tr>\n",
       "    <tr>\n",
       "      <td>20</td>\n",
       "      <td>68.0</td>\n",
       "      <td>8.0</td>\n",
       "    </tr>\n",
       "  </tbody>\n",
       "</table>\n",
       "</div>"
      ],
      "text/plain": [
       "debt            0       1\n",
       "children                 \n",
       "-1           46.0     1.0\n",
       " 0        13020.0  1063.0\n",
       " 1         4363.0   444.0\n",
       " 2         1858.0   194.0\n",
       " 3          302.0    27.0\n",
       " 4           37.0     4.0\n",
       " 5            9.0     NaN\n",
       " 20          68.0     8.0"
      ]
     },
     "metadata": {
      "tags": []
     },
     "output_type": "display_data"
    }
   ],
   "source": [
    "children_debt = bank_stat.pivot_table(index=['children'], columns=['debt'], values='education', aggfunc='count')\n",
    "display(children_debt)"
   ]
  },
  {
   "cell_type": "markdown",
   "metadata": {
    "id": "G8mLuCIhrA16"
   },
   "source": [
    "Сомнение вызывает наличие \"-1\" ребенка.\n",
    "Предположим, это просто ошибка ручного ввода - таких строк не так много по сравнению с основным кол-вом данных.\n",
    "\n",
    "Исправлю данные:"
   ]
  },
  {
   "cell_type": "code",
   "execution_count": null,
   "metadata": {
    "id": "2bxbmZNhrA16"
   },
   "outputs": [],
   "source": [
    "bank_stat['children'] = bank_stat['children'].abs()"
   ]
  },
  {
   "cell_type": "markdown",
   "metadata": {
    "id": "qiK1kmDZrA18"
   },
   "source": [
    "Посмотрим на сводную таблицу еще раз:"
   ]
  },
  {
   "cell_type": "code",
   "execution_count": null,
   "metadata": {
    "id": "AClVsPk6rA18",
    "outputId": "52f72b59-ac95-466c-8441-239f99898b2b"
   },
   "outputs": [
    {
     "data": {
      "text/html": [
       "<div>\n",
       "<style scoped>\n",
       "    .dataframe tbody tr th:only-of-type {\n",
       "        vertical-align: middle;\n",
       "    }\n",
       "\n",
       "    .dataframe tbody tr th {\n",
       "        vertical-align: top;\n",
       "    }\n",
       "\n",
       "    .dataframe thead th {\n",
       "        text-align: right;\n",
       "    }\n",
       "</style>\n",
       "<table border=\"1\" class=\"dataframe\">\n",
       "  <thead>\n",
       "    <tr style=\"text-align: right;\">\n",
       "      <th>debt</th>\n",
       "      <th>0</th>\n",
       "      <th>1</th>\n",
       "    </tr>\n",
       "    <tr>\n",
       "      <th>children</th>\n",
       "      <th></th>\n",
       "      <th></th>\n",
       "    </tr>\n",
       "  </thead>\n",
       "  <tbody>\n",
       "    <tr>\n",
       "      <td>0</td>\n",
       "      <td>13020.0</td>\n",
       "      <td>1063.0</td>\n",
       "    </tr>\n",
       "    <tr>\n",
       "      <td>1</td>\n",
       "      <td>4409.0</td>\n",
       "      <td>445.0</td>\n",
       "    </tr>\n",
       "    <tr>\n",
       "      <td>2</td>\n",
       "      <td>1858.0</td>\n",
       "      <td>194.0</td>\n",
       "    </tr>\n",
       "    <tr>\n",
       "      <td>3</td>\n",
       "      <td>302.0</td>\n",
       "      <td>27.0</td>\n",
       "    </tr>\n",
       "    <tr>\n",
       "      <td>4</td>\n",
       "      <td>37.0</td>\n",
       "      <td>4.0</td>\n",
       "    </tr>\n",
       "    <tr>\n",
       "      <td>5</td>\n",
       "      <td>9.0</td>\n",
       "      <td>NaN</td>\n",
       "    </tr>\n",
       "    <tr>\n",
       "      <td>20</td>\n",
       "      <td>68.0</td>\n",
       "      <td>8.0</td>\n",
       "    </tr>\n",
       "  </tbody>\n",
       "</table>\n",
       "</div>"
      ],
      "text/plain": [
       "debt            0       1\n",
       "children                 \n",
       "0         13020.0  1063.0\n",
       "1          4409.0   445.0\n",
       "2          1858.0   194.0\n",
       "3           302.0    27.0\n",
       "4            37.0     4.0\n",
       "5             9.0     NaN\n",
       "20           68.0     8.0"
      ]
     },
     "metadata": {
      "tags": []
     },
     "output_type": "display_data"
    }
   ],
   "source": [
    "children_debt = bank_stat.pivot_table(index=['children'], columns=['debt'], values='education', aggfunc='count')\n",
    "display(children_debt)"
   ]
  },
  {
   "cell_type": "markdown",
   "metadata": {
    "id": "K9eA19OIrA1-"
   },
   "source": [
    "Наличие 20 детей кажется немного сомнительным в современном мире (и то, что ни у кого нет варианта 18 детей, у всех после 5 - сразу 20), я бы предположила, что это писали 2, и случано добавили ноль, но на раскладке клавиатуры они находятся далеко друг от друга, так что оставлю все как есть (может быть, например, в системе при заполнении кол-ва детей было поле со скролингом и 20 - это просто был максимум, который иногда случайно ставили вместо какого угодно другого количества детей)."
   ]
  },
  {
   "cell_type": "markdown",
   "metadata": {
    "id": "eCZ3F2lerA1-"
   },
   "source": [
    "Для того, чтобы сказать о зависимости  - нужно найти процентное соотношение числа невыплативших кредит вовремя к общему числу людей с таким количеством детей. Найдем это процентное соотношение."
   ]
  },
  {
   "cell_type": "code",
   "execution_count": null,
   "metadata": {
    "id": "GO37ZxTarA1_",
    "outputId": "823e3d16-a0f5-482b-8ff3-defe0eaa14e1"
   },
   "outputs": [
    {
     "data": {
      "text/plain": [
       "children\n",
       "0      7.548108\n",
       "1      9.167697\n",
       "2      9.454191\n",
       "3      8.206687\n",
       "4      9.756098\n",
       "5           NaN\n",
       "20    10.526316\n",
       "dtype: float64"
      ]
     },
     "execution_count": 49,
     "metadata": {
      "tags": []
     },
     "output_type": "execute_result"
    }
   ],
   "source": [
    "children_debt[1] / (children_debt[0]+children_debt[1]) *100"
   ]
  },
  {
   "cell_type": "markdown",
   "metadata": {
    "id": "650GQxegrA2A"
   },
   "source": [
    "### **Вывод**"
   ]
  },
  {
   "cell_type": "markdown",
   "metadata": {
    "id": "61EIph6srA2A"
   },
   "source": [
    "Исходя из полученных процентных соотношений получается, что процент невыплачиваемости кредита в срок немного ниже (всего на 1,5%) у людей, у которых нет детей совсем (то есть им выдавать кредит предпочтительнее при прочих равных), а если дети есть - то не так уже важно сколько их, процент невыплачиваемости будет не очень сильно разнится (от 8.2 до 9.7 процентов). \n",
    "В таблице видно, что люди, у которых 5 детей - все выплатили кредит в срок, но на деле их и выплативших всего 9 человек, поэтому ориентироваться на эти данные нельзя."
   ]
  },
  {
   "cell_type": "markdown",
   "metadata": {
    "id": "pDx1PH0grA2B"
   },
   "source": [
    "**7.2 Есть ли зависимость между семейным положением и возвратом кредита в срок?**"
   ]
  },
  {
   "cell_type": "markdown",
   "metadata": {
    "id": "Cbu77gkdrA2C"
   },
   "source": [
    "Построим сводную таблицу зависимости семейного положения и выплаты кредита в срок, посчитаем количество выплаченных и не выплаченных вовремя кредитов."
   ]
  },
  {
   "cell_type": "code",
   "execution_count": null,
   "metadata": {
    "id": "PMeL96WurA2C",
    "outputId": "4325f2db-0779-4a5b-be60-9e6865eec475"
   },
   "outputs": [
    {
     "data": {
      "text/html": [
       "<div>\n",
       "<style scoped>\n",
       "    .dataframe tbody tr th:only-of-type {\n",
       "        vertical-align: middle;\n",
       "    }\n",
       "\n",
       "    .dataframe tbody tr th {\n",
       "        vertical-align: top;\n",
       "    }\n",
       "\n",
       "    .dataframe thead th {\n",
       "        text-align: right;\n",
       "    }\n",
       "</style>\n",
       "<table border=\"1\" class=\"dataframe\">\n",
       "  <thead>\n",
       "    <tr style=\"text-align: right;\">\n",
       "      <th>debt</th>\n",
       "      <th>0</th>\n",
       "      <th>1</th>\n",
       "    </tr>\n",
       "    <tr>\n",
       "      <th>family_status</th>\n",
       "      <th></th>\n",
       "      <th></th>\n",
       "    </tr>\n",
       "  </thead>\n",
       "  <tbody>\n",
       "    <tr>\n",
       "      <td>Не женат / не замужем</td>\n",
       "      <td>2535</td>\n",
       "      <td>274</td>\n",
       "    </tr>\n",
       "    <tr>\n",
       "      <td>в разводе</td>\n",
       "      <td>1109</td>\n",
       "      <td>85</td>\n",
       "    </tr>\n",
       "    <tr>\n",
       "      <td>вдовец / вдова</td>\n",
       "      <td>895</td>\n",
       "      <td>63</td>\n",
       "    </tr>\n",
       "    <tr>\n",
       "      <td>гражданский брак</td>\n",
       "      <td>3760</td>\n",
       "      <td>388</td>\n",
       "    </tr>\n",
       "    <tr>\n",
       "      <td>женат / замужем</td>\n",
       "      <td>11404</td>\n",
       "      <td>931</td>\n",
       "    </tr>\n",
       "  </tbody>\n",
       "</table>\n",
       "</div>"
      ],
      "text/plain": [
       "debt                       0    1\n",
       "family_status                    \n",
       "Не женат / не замужем   2535  274\n",
       "в разводе               1109   85\n",
       "вдовец / вдова           895   63\n",
       "гражданский брак        3760  388\n",
       "женат / замужем        11404  931"
      ]
     },
     "metadata": {
      "tags": []
     },
     "output_type": "display_data"
    }
   ],
   "source": [
    "family_status_debt = bank_stat.pivot_table(index=['family_status'], columns=['debt'], values='education', aggfunc='count')\n",
    "display(family_status_debt)"
   ]
  },
  {
   "cell_type": "markdown",
   "metadata": {
    "id": "NX_JGTUmrA2E"
   },
   "source": [
    "Теперь снова посмотрим на процентное соотношение."
   ]
  },
  {
   "cell_type": "code",
   "execution_count": null,
   "metadata": {
    "id": "yKgRwjpkrA2E",
    "outputId": "a86f2edb-84f5-4ca6-a186-af58808b6ac7"
   },
   "outputs": [
    {
     "data": {
      "text/plain": [
       "family_status\n",
       "Не женат / не замужем    9.754361\n",
       "в разводе                7.118928\n",
       "вдовец / вдова           6.576200\n",
       "гражданский брак         9.353905\n",
       "женат / замужем          7.547629\n",
       "dtype: float64"
      ]
     },
     "execution_count": 51,
     "metadata": {
      "tags": []
     },
     "output_type": "execute_result"
    }
   ],
   "source": [
    "family_status_debt[1] / (family_status_debt[0] + family_status_debt[1]) *100"
   ]
  },
  {
   "cell_type": "markdown",
   "metadata": {
    "id": "9edxEGy0rA2F"
   },
   "source": [
    "### **Вывод**"
   ]
  },
  {
   "cell_type": "markdown",
   "metadata": {
    "id": "PQpwjKi5rA2G"
   },
   "source": [
    "Из полученных данных можно сделать вывод, что люди, которые женаты/замужем, в разводе или которые оказались вдовой/вдовцом чаще отдают кредит в срок, чем тем, кто живет в гражданском браке или не женат/не замужем.\n",
    "\n",
    "Из этих данных можно предположить, что чем старше человек - тем больше вероятность, что он отдаст кредит в срок, что тоже можно проверить."
   ]
  },
  {
   "cell_type": "code",
   "execution_count": null,
   "metadata": {
    "id": "CDrB7_wZrA2G",
    "outputId": "ba0f0913-b24f-406e-c91c-40f520723686"
   },
   "outputs": [
    {
     "data": {
      "text/html": [
       "<div>\n",
       "<style scoped>\n",
       "    .dataframe tbody tr th:only-of-type {\n",
       "        vertical-align: middle;\n",
       "    }\n",
       "\n",
       "    .dataframe tbody tr th {\n",
       "        vertical-align: top;\n",
       "    }\n",
       "\n",
       "    .dataframe thead th {\n",
       "        text-align: right;\n",
       "    }\n",
       "</style>\n",
       "<table border=\"1\" class=\"dataframe\">\n",
       "  <thead>\n",
       "    <tr style=\"text-align: right;\">\n",
       "      <th>debt</th>\n",
       "      <th>0</th>\n",
       "      <th>1</th>\n",
       "    </tr>\n",
       "    <tr>\n",
       "      <th>dob_years_category</th>\n",
       "      <th></th>\n",
       "      <th></th>\n",
       "    </tr>\n",
       "  </thead>\n",
       "  <tbody>\n",
       "    <tr>\n",
       "      <td>(18, 23]</td>\n",
       "      <td>547</td>\n",
       "      <td>64</td>\n",
       "    </tr>\n",
       "    <tr>\n",
       "      <td>(23, 30]</td>\n",
       "      <td>2767</td>\n",
       "      <td>339</td>\n",
       "    </tr>\n",
       "    <tr>\n",
       "      <td>(30, 38]</td>\n",
       "      <td>4099</td>\n",
       "      <td>454</td>\n",
       "    </tr>\n",
       "    <tr>\n",
       "      <td>(38, 53]</td>\n",
       "      <td>7246</td>\n",
       "      <td>582</td>\n",
       "    </tr>\n",
       "    <tr>\n",
       "      <td>(53, 75]</td>\n",
       "      <td>4961</td>\n",
       "      <td>294</td>\n",
       "    </tr>\n",
       "  </tbody>\n",
       "</table>\n",
       "</div>"
      ],
      "text/plain": [
       "debt                   0    1\n",
       "dob_years_category           \n",
       "(18, 23]             547   64\n",
       "(23, 30]            2767  339\n",
       "(30, 38]            4099  454\n",
       "(38, 53]            7246  582\n",
       "(53, 75]            4961  294"
      ]
     },
     "metadata": {
      "tags": []
     },
     "output_type": "display_data"
    }
   ],
   "source": [
    "dob_years_category_debt = bank_stat.pivot_table(index=['dob_years_category'], columns=['debt'], values='education', aggfunc='count')\n",
    "display(dob_years_category_debt)"
   ]
  },
  {
   "cell_type": "code",
   "execution_count": null,
   "metadata": {
    "id": "NcQ-SxJ6rA2H",
    "outputId": "b7deb1ac-e5b3-4f3d-f97d-ce9c1c6b3a2b"
   },
   "outputs": [
    {
     "data": {
      "text/plain": [
       "dob_years_category\n",
       "(18, 23]    10.474632\n",
       "(23, 30]    10.914359\n",
       "(30, 38]     9.971447\n",
       "(38, 53]     7.434849\n",
       "(53, 75]     5.594672\n",
       "dtype: float64"
      ]
     },
     "execution_count": 53,
     "metadata": {
      "tags": []
     },
     "output_type": "execute_result"
    }
   ],
   "source": [
    "dob_years_category_debt[1] / (dob_years_category_debt[0] + dob_years_category_debt[1]) *100"
   ]
  },
  {
   "cell_type": "markdown",
   "metadata": {
    "id": "aPpA8DnNrA2J"
   },
   "source": [
    "Да, мы подтвердили, что чем старше люди - тем больше вероятность, что они выплатят кредит в срок."
   ]
  },
  {
   "cell_type": "markdown",
   "metadata": {
    "id": "e_0GSq9_rA2J"
   },
   "source": [
    "**7.3 Есть ли зависимость между уровнем дохода и возвратом кредита в срок?**"
   ]
  },
  {
   "cell_type": "markdown",
   "metadata": {
    "id": "RppqXQjVrA2J"
   },
   "source": [
    "Посмотрим какие вообще уровни дохода есть в столбце total_income."
   ]
  },
  {
   "cell_type": "code",
   "execution_count": null,
   "metadata": {
    "id": "ia05_uH2rA2K",
    "outputId": "5a781835-dfa4-4f1e-9cd0-29bf658a132f"
   },
   "outputs": [
    {
     "data": {
      "text/plain": [
       "<matplotlib.axes._subplots.AxesSubplot at 0x7fe4f038c590>"
      ]
     },
     "execution_count": 54,
     "metadata": {
      "tags": []
     },
     "output_type": "execute_result"
    },
    {
     "data": {
      "image/png": "[encoded data removed]",
      "text/plain": [
       "<Figure size 432x288 with 1 Axes>"
      ]
     },
     "metadata": {
      "needs_background": "light",
      "tags": []
     },
     "output_type": "display_data"
    }
   ],
   "source": [
    "bank_stat['total_income'].loc[bank_stat['total_income']<1000000].hist()"
   ]
  },
  {
   "cell_type": "code",
   "execution_count": null,
   "metadata": {
    "id": "EqomrdZ8rA2L",
    "outputId": "33baafcd-6ada-4bfe-cc74-191462188e25"
   },
   "outputs": [
    {
     "data": {
      "text/plain": [
       "<matplotlib.axes._subplots.AxesSubplot at 0x7fe524ced390>"
      ]
     },
     "execution_count": 55,
     "metadata": {
      "tags": []
     },
     "output_type": "execute_result"
    },
    {
     "data": {
      "image/png": "[encoded data removed]",
      "text/plain": [
       "<Figure size 432x288 with 1 Axes>"
      ]
     },
     "metadata": {
      "needs_background": "light",
      "tags": []
     },
     "output_type": "display_data"
    }
   ],
   "source": [
    "bank_stat.plot.scatter('total_income', 'debt', alpha = 0.1)"
   ]
  },
  {
   "cell_type": "markdown",
   "metadata": {
    "id": "zvXxGTyHrA2M"
   },
   "source": [
    "Но из второго графика видно, что в разных уровнях дохода не равное кол-во людей, поэтому разделим их на 5 равных категорий с помощью qcut (которая в каждой категории оставит одинаковое кол-во людей)."
   ]
  },
  {
   "cell_type": "code",
   "execution_count": null,
   "metadata": {
    "id": "ka1ruzLOrA2N",
    "outputId": "fcfdd232-a661-4456-941d-222fcaa7639a"
   },
   "outputs": [
    {
     "data": {
      "text/html": [
       "<div>\n",
       "<style scoped>\n",
       "    .dataframe tbody tr th:only-of-type {\n",
       "        vertical-align: middle;\n",
       "    }\n",
       "\n",
       "    .dataframe tbody tr th {\n",
       "        vertical-align: top;\n",
       "    }\n",
       "\n",
       "    .dataframe thead th {\n",
       "        text-align: right;\n",
       "    }\n",
       "</style>\n",
       "<table border=\"1\" class=\"dataframe\">\n",
       "  <thead>\n",
       "    <tr style=\"text-align: right;\">\n",
       "      <th></th>\n",
       "      <th>children</th>\n",
       "      <th>days_employed</th>\n",
       "      <th>dob_years</th>\n",
       "      <th>education</th>\n",
       "      <th>education_id</th>\n",
       "      <th>family_status</th>\n",
       "      <th>family_status_id</th>\n",
       "      <th>gender</th>\n",
       "      <th>income_type</th>\n",
       "      <th>debt</th>\n",
       "      <th>total_income</th>\n",
       "      <th>purpose</th>\n",
       "      <th>days_employed_in_years</th>\n",
       "      <th>dob_years_category</th>\n",
       "      <th>clean_purpose</th>\n",
       "    </tr>\n",
       "    <tr>\n",
       "      <th>total_income_category</th>\n",
       "      <th></th>\n",
       "      <th></th>\n",
       "      <th></th>\n",
       "      <th></th>\n",
       "      <th></th>\n",
       "      <th></th>\n",
       "      <th></th>\n",
       "      <th></th>\n",
       "      <th></th>\n",
       "      <th></th>\n",
       "      <th></th>\n",
       "      <th></th>\n",
       "      <th></th>\n",
       "      <th></th>\n",
       "      <th></th>\n",
       "    </tr>\n",
       "  </thead>\n",
       "  <tbody>\n",
       "    <tr>\n",
       "      <td>(20666.999, 98528.8]</td>\n",
       "      <td>4289</td>\n",
       "      <td>4289</td>\n",
       "      <td>4289</td>\n",
       "      <td>4289</td>\n",
       "      <td>4289</td>\n",
       "      <td>4289</td>\n",
       "      <td>4289</td>\n",
       "      <td>4289</td>\n",
       "      <td>4289</td>\n",
       "      <td>4289</td>\n",
       "      <td>4289</td>\n",
       "      <td>4289</td>\n",
       "      <td>4289</td>\n",
       "      <td>4266</td>\n",
       "      <td>4289</td>\n",
       "    </tr>\n",
       "    <tr>\n",
       "      <td>(98528.8, 132125.0]</td>\n",
       "      <td>4289</td>\n",
       "      <td>3906</td>\n",
       "      <td>4289</td>\n",
       "      <td>4289</td>\n",
       "      <td>4289</td>\n",
       "      <td>4289</td>\n",
       "      <td>4289</td>\n",
       "      <td>4289</td>\n",
       "      <td>4289</td>\n",
       "      <td>4289</td>\n",
       "      <td>4289</td>\n",
       "      <td>4289</td>\n",
       "      <td>4289</td>\n",
       "      <td>4270</td>\n",
       "      <td>4289</td>\n",
       "    </tr>\n",
       "    <tr>\n",
       "      <td>(132125.0, 161376.2]</td>\n",
       "      <td>4288</td>\n",
       "      <td>3078</td>\n",
       "      <td>4288</td>\n",
       "      <td>4288</td>\n",
       "      <td>4288</td>\n",
       "      <td>4288</td>\n",
       "      <td>4288</td>\n",
       "      <td>4288</td>\n",
       "      <td>4288</td>\n",
       "      <td>4288</td>\n",
       "      <td>4288</td>\n",
       "      <td>4288</td>\n",
       "      <td>4288</td>\n",
       "      <td>4279</td>\n",
       "      <td>4288</td>\n",
       "    </tr>\n",
       "    <tr>\n",
       "      <td>(161376.2, 214682.8]</td>\n",
       "      <td>4289</td>\n",
       "      <td>3790</td>\n",
       "      <td>4289</td>\n",
       "      <td>4289</td>\n",
       "      <td>4289</td>\n",
       "      <td>4289</td>\n",
       "      <td>4289</td>\n",
       "      <td>4289</td>\n",
       "      <td>4289</td>\n",
       "      <td>4289</td>\n",
       "      <td>4289</td>\n",
       "      <td>4289</td>\n",
       "      <td>4289</td>\n",
       "      <td>4272</td>\n",
       "      <td>4289</td>\n",
       "    </tr>\n",
       "    <tr>\n",
       "      <td>(214682.8, 2265604.0]</td>\n",
       "      <td>4289</td>\n",
       "      <td>4288</td>\n",
       "      <td>4289</td>\n",
       "      <td>4289</td>\n",
       "      <td>4289</td>\n",
       "      <td>4289</td>\n",
       "      <td>4289</td>\n",
       "      <td>4289</td>\n",
       "      <td>4289</td>\n",
       "      <td>4289</td>\n",
       "      <td>4289</td>\n",
       "      <td>4289</td>\n",
       "      <td>4289</td>\n",
       "      <td>4266</td>\n",
       "      <td>4289</td>\n",
       "    </tr>\n",
       "  </tbody>\n",
       "</table>\n",
       "</div>"
      ],
      "text/plain": [
       "                       children  days_employed  dob_years  education  \\\n",
       "total_income_category                                                  \n",
       "(20666.999, 98528.8]       4289           4289       4289       4289   \n",
       "(98528.8, 132125.0]        4289           3906       4289       4289   \n",
       "(132125.0, 161376.2]       4288           3078       4288       4288   \n",
       "(161376.2, 214682.8]       4289           3790       4289       4289   \n",
       "(214682.8, 2265604.0]      4289           4288       4289       4289   \n",
       "\n",
       "                       education_id  family_status  family_status_id  gender  \\\n",
       "total_income_category                                                          \n",
       "(20666.999, 98528.8]           4289           4289              4289    4289   \n",
       "(98528.8, 132125.0]            4289           4289              4289    4289   \n",
       "(132125.0, 161376.2]           4288           4288              4288    4288   \n",
       "(161376.2, 214682.8]           4289           4289              4289    4289   \n",
       "(214682.8, 2265604.0]          4289           4289              4289    4289   \n",
       "\n",
       "                       income_type  debt  total_income  purpose  \\\n",
       "total_income_category                                             \n",
       "(20666.999, 98528.8]          4289  4289          4289     4289   \n",
       "(98528.8, 132125.0]           4289  4289          4289     4289   \n",
       "(132125.0, 161376.2]          4288  4288          4288     4288   \n",
       "(161376.2, 214682.8]          4289  4289          4289     4289   \n",
       "(214682.8, 2265604.0]         4289  4289          4289     4289   \n",
       "\n",
       "                       days_employed_in_years  dob_years_category  \\\n",
       "total_income_category                                               \n",
       "(20666.999, 98528.8]                     4289                4266   \n",
       "(98528.8, 132125.0]                      4289                4270   \n",
       "(132125.0, 161376.2]                     4288                4279   \n",
       "(161376.2, 214682.8]                     4289                4272   \n",
       "(214682.8, 2265604.0]                    4289                4266   \n",
       "\n",
       "                       clean_purpose  \n",
       "total_income_category                 \n",
       "(20666.999, 98528.8]            4289  \n",
       "(98528.8, 132125.0]             4289  \n",
       "(132125.0, 161376.2]            4288  \n",
       "(161376.2, 214682.8]            4289  \n",
       "(214682.8, 2265604.0]           4289  "
      ]
     },
     "execution_count": 56,
     "metadata": {
      "tags": []
     },
     "output_type": "execute_result"
    }
   ],
   "source": [
    "bank_stat['total_income_category'] = pd.qcut(bank_stat['total_income'], 5)\n",
    "bank_stat.groupby('total_income_category').count()"
   ]
  },
  {
   "cell_type": "markdown",
   "metadata": {
    "id": "7Bg7ITZSrA2O"
   },
   "source": [
    "Теперь уже в каждой категории посмотрим кол-во невозвратов."
   ]
  },
  {
   "cell_type": "code",
   "execution_count": null,
   "metadata": {
    "id": "2zwaLGwgrA2Q",
    "outputId": "5e4a00f7-8868-4206-e25f-5bd908a7074a"
   },
   "outputs": [
    {
     "data": {
      "text/html": [
       "<div>\n",
       "<style scoped>\n",
       "    .dataframe tbody tr th:only-of-type {\n",
       "        vertical-align: middle;\n",
       "    }\n",
       "\n",
       "    .dataframe tbody tr th {\n",
       "        vertical-align: top;\n",
       "    }\n",
       "\n",
       "    .dataframe thead th {\n",
       "        text-align: right;\n",
       "    }\n",
       "</style>\n",
       "<table border=\"1\" class=\"dataframe\">\n",
       "  <thead>\n",
       "    <tr style=\"text-align: right;\">\n",
       "      <th>debt</th>\n",
       "      <th>0</th>\n",
       "      <th>1</th>\n",
       "    </tr>\n",
       "    <tr>\n",
       "      <th>total_income_category</th>\n",
       "      <th></th>\n",
       "      <th></th>\n",
       "    </tr>\n",
       "  </thead>\n",
       "  <tbody>\n",
       "    <tr>\n",
       "      <td>(20666.999, 98528.8]</td>\n",
       "      <td>3945</td>\n",
       "      <td>344</td>\n",
       "    </tr>\n",
       "    <tr>\n",
       "      <td>(98528.8, 132125.0]</td>\n",
       "      <td>3928</td>\n",
       "      <td>361</td>\n",
       "    </tr>\n",
       "    <tr>\n",
       "      <td>(132125.0, 161376.2]</td>\n",
       "      <td>3913</td>\n",
       "      <td>375</td>\n",
       "    </tr>\n",
       "    <tr>\n",
       "      <td>(161376.2, 214682.8]</td>\n",
       "      <td>3928</td>\n",
       "      <td>361</td>\n",
       "    </tr>\n",
       "    <tr>\n",
       "      <td>(214682.8, 2265604.0]</td>\n",
       "      <td>3989</td>\n",
       "      <td>300</td>\n",
       "    </tr>\n",
       "  </tbody>\n",
       "</table>\n",
       "</div>"
      ],
      "text/plain": [
       "debt                      0    1\n",
       "total_income_category           \n",
       "(20666.999, 98528.8]   3945  344\n",
       "(98528.8, 132125.0]    3928  361\n",
       "(132125.0, 161376.2]   3913  375\n",
       "(161376.2, 214682.8]   3928  361\n",
       "(214682.8, 2265604.0]  3989  300"
      ]
     },
     "metadata": {
      "tags": []
     },
     "output_type": "display_data"
    }
   ],
   "source": [
    "total_income_debt = bank_stat.pivot_table(index=['total_income_category'], columns=['debt'], values='education', aggfunc='count')\n",
    "display(total_income_debt)"
   ]
  },
  {
   "cell_type": "markdown",
   "metadata": {
    "id": "mTD4oU0KrA2R"
   },
   "source": [
    "И найдем процентное соотношение невозвратов к общему кол-ву людей в категории (которое у нас равное)."
   ]
  },
  {
   "cell_type": "code",
   "execution_count": null,
   "metadata": {
    "id": "DpF04ZvhrA2R",
    "outputId": "8a733241-c48f-4a26-a4e3-b371e6dd8e2f"
   },
   "outputs": [
    {
     "data": {
      "text/plain": [
       "total_income_category\n",
       "(20666.999, 98528.8]     8.020518\n",
       "(98528.8, 132125.0]      8.416880\n",
       "(132125.0, 161376.2]     8.745336\n",
       "(161376.2, 214682.8]     8.416880\n",
       "(214682.8, 2265604.0]    6.994637\n",
       "dtype: float64"
      ]
     },
     "execution_count": 58,
     "metadata": {
      "tags": []
     },
     "output_type": "execute_result"
    }
   ],
   "source": [
    "total_income_debt[1] / (total_income_debt[0] + total_income_debt[1]) *100"
   ]
  },
  {
   "cell_type": "markdown",
   "metadata": {
    "id": "J4dXuMsdrA2T"
   },
   "source": [
    "### **Вывод**"
   ]
  },
  {
   "cell_type": "markdown",
   "metadata": {
    "id": "wE82e7khrA2U"
   },
   "source": [
    "Из полученной таблицы видно, что чаще всего возвращают кредит в срок люди, у которых уровень дохода выше 214 единиц."
   ]
  },
  {
   "cell_type": "markdown",
   "metadata": {
    "id": "liUCQ2PGrA2U"
   },
   "source": [
    "**7.4 Как разные цели кредита влияют на его возврат в срок?**"
   ]
  },
  {
   "cell_type": "code",
   "execution_count": null,
   "metadata": {
    "id": "yFwR2tZ0rA2U",
    "outputId": "89795cfd-790a-4d71-85e1-ef8d42af13b0"
   },
   "outputs": [
    {
     "data": {
      "text/plain": [
       "Index(['children', 'days_employed', 'dob_years', 'education', 'education_id',\n",
       "       'family_status', 'family_status_id', 'gender', 'income_type', 'debt',\n",
       "       'total_income', 'purpose', 'days_employed_in_years',\n",
       "       'dob_years_category', 'clean_purpose', 'total_income_category'],\n",
       "      dtype='object')"
      ]
     },
     "execution_count": 59,
     "metadata": {
      "tags": []
     },
     "output_type": "execute_result"
    }
   ],
   "source": [
    "bank_stat.columns"
   ]
  },
  {
   "cell_type": "markdown",
   "metadata": {
    "id": "o9DR2xxnrA2W"
   },
   "source": [
    "Выше с помощью лемматизации я уже привела данные о целях кредита к единым категориям, так что теперь можно построить сводную таблицу зависимости целей кредита и выплаты кредита в срок, используя колонку clean_purpose."
   ]
  },
  {
   "cell_type": "code",
   "execution_count": null,
   "metadata": {
    "id": "U7vxAi--rA2W",
    "outputId": "d467c1f6-daea-48bb-ec99-ba4f4f9b25b0"
   },
   "outputs": [
    {
     "data": {
      "text/html": [
       "<div>\n",
       "<style scoped>\n",
       "    .dataframe tbody tr th:only-of-type {\n",
       "        vertical-align: middle;\n",
       "    }\n",
       "\n",
       "    .dataframe tbody tr th {\n",
       "        vertical-align: top;\n",
       "    }\n",
       "\n",
       "    .dataframe thead th {\n",
       "        text-align: right;\n",
       "    }\n",
       "</style>\n",
       "<table border=\"1\" class=\"dataframe\">\n",
       "  <thead>\n",
       "    <tr style=\"text-align: right;\">\n",
       "      <th>debt</th>\n",
       "      <th>0</th>\n",
       "      <th>1</th>\n",
       "    </tr>\n",
       "    <tr>\n",
       "      <th>clean_purpose</th>\n",
       "      <th></th>\n",
       "      <th></th>\n",
       "    </tr>\n",
       "  </thead>\n",
       "  <tbody>\n",
       "    <tr>\n",
       "      <td>автомобиль</td>\n",
       "      <td>3903</td>\n",
       "      <td>403</td>\n",
       "    </tr>\n",
       "    <tr>\n",
       "      <td>недвижимость</td>\n",
       "      <td>10021</td>\n",
       "      <td>782</td>\n",
       "    </tr>\n",
       "    <tr>\n",
       "      <td>образование</td>\n",
       "      <td>3643</td>\n",
       "      <td>370</td>\n",
       "    </tr>\n",
       "    <tr>\n",
       "      <td>свадьба</td>\n",
       "      <td>2136</td>\n",
       "      <td>186</td>\n",
       "    </tr>\n",
       "  </tbody>\n",
       "</table>\n",
       "</div>"
      ],
      "text/plain": [
       "debt               0    1\n",
       "clean_purpose            \n",
       "автомобиль      3903  403\n",
       "недвижимость   10021  782\n",
       "образование     3643  370\n",
       "свадьба         2136  186"
      ]
     },
     "metadata": {
      "tags": []
     },
     "output_type": "display_data"
    }
   ],
   "source": [
    "purpose_debt = bank_stat.pivot_table(index=['clean_purpose'], columns=['debt'], values='education', aggfunc='count')\n",
    "display(purpose_debt)"
   ]
  },
  {
   "cell_type": "markdown",
   "metadata": {
    "id": "aCeGYDHrrA2Y"
   },
   "source": [
    "Найдем процентное соотношение:"
   ]
  },
  {
   "cell_type": "code",
   "execution_count": null,
   "metadata": {
    "colab": {
     "base_uri": "https://localhost:8080/",
     "height": 181
    },
    "id": "Gq_00RM4rA2Y",
    "outputId": "aa9ef63c-5a75-4470-a5c6-65c22a2f7d9c"
   },
   "outputs": [
    {
     "ename": "NameError",
     "evalue": "ignored",
     "output_type": "error",
     "traceback": [
      "\u001b[0;31m---------------------------------------------------------------------------\u001b[0m",
      "\u001b[0;31mNameError\u001b[0m                                 Traceback (most recent call last)",
      "\u001b[0;32m<ipython-input-1-eead00564385>\u001b[0m in \u001b[0;36m<module>\u001b[0;34m()\u001b[0m\n\u001b[0;32m----> 1\u001b[0;31m \u001b[0mpurpose_debt_2\u001b[0m \u001b[0;34m=\u001b[0m \u001b[0mbank_stat\u001b[0m\u001b[0;34m.\u001b[0m\u001b[0mpivot_table\u001b[0m\u001b[0;34m(\u001b[0m\u001b[0mindex\u001b[0m\u001b[0;34m=\u001b[0m\u001b[0;34m[\u001b[0m\u001b[0;34m'clean_purpose'\u001b[0m\u001b[0;34m]\u001b[0m\u001b[0;34m,\u001b[0m \u001b[0mvalues\u001b[0m\u001b[0;34m=\u001b[0m\u001b[0;34m'debt'\u001b[0m\u001b[0;34m,\u001b[0m \u001b[0maggfunc\u001b[0m\u001b[0;34m=\u001b[0m\u001b[0;34m[\u001b[0m\u001b[0;34m'sum'\u001b[0m\u001b[0;34m,\u001b[0m \u001b[0;34m'count'\u001b[0m\u001b[0;34m,\u001b[0m \u001b[0;34m'mean'\u001b[0m\u001b[0;34m]\u001b[0m\u001b[0;34m)\u001b[0m\u001b[0;34m\u001b[0m\u001b[0;34m\u001b[0m\u001b[0m\n\u001b[0m\u001b[1;32m      2\u001b[0m \u001b[0mdisplay\u001b[0m\u001b[0;34m(\u001b[0m\u001b[0mpurpose_debt_2\u001b[0m\u001b[0;34m)\u001b[0m\u001b[0;34m\u001b[0m\u001b[0;34m\u001b[0m\u001b[0m\n",
      "\u001b[0;31mNameError\u001b[0m: name 'bank_stat' is not defined"
     ]
    }
   ],
   "source": [
    "purpose_debt_2 = bank_stat.pivot_table(index=['clean_purpose'], values='debt', aggfunc=['sum', 'count', 'mean'])\n",
    "display(purpose_debt_2)"
   ]
  },
  {
   "cell_type": "code",
   "execution_count": null,
   "metadata": {
    "id": "KILP5tfrrA2Z",
    "outputId": "22392db0-d6b7-42c0-816d-e9eb609c020e"
   },
   "outputs": [
    {
     "data": {
      "text/plain": [
       "clean_purpose\n",
       "автомобиль      9.359034\n",
       "недвижимость    7.238730\n",
       "образование     9.220035\n",
       "свадьба         8.010336\n",
       "dtype: float64"
      ]
     },
     "execution_count": 69,
     "metadata": {
      "tags": []
     },
     "output_type": "execute_result"
    }
   ],
   "source": [
    "purpose_debt[1] / (purpose_debt[0] + purpose_debt[1]) *100"
   ]
  },
  {
   "cell_type": "markdown",
   "metadata": {
    "id": "LUgpCmjkrA2b"
   },
   "source": [
    "### **Вывод**"
   ]
  },
  {
   "cell_type": "markdown",
   "metadata": {
    "id": "fwgaspwQrA2b"
   },
   "source": [
    "Из полученных данных видно, что люди, берущие кредит на недвижимость, выплачивают его в срок чаще, чем те кто берет его на свадьбу, а те, кто берут его на свадьбу - выплачивают кредит вовремя чаще, чем те, кто берет кредит на образование или автомобиль."
   ]
  },
  {
   "cell_type": "markdown",
   "metadata": {
    "id": "58stDfjDrA2b"
   },
   "source": [
    "## **Общий вывод**"
   ]
  },
  {
   "cell_type": "markdown",
   "metadata": {
    "id": "S5mbM8OCrA2c"
   },
   "source": [
    "1. **Данные были предобработаны:**\n",
    "\n",
    "1) Удалены пропуски\n",
    "\n",
    "2) Часть значений заменена из-за наличия ошибок (слишком большие или отрицательные значения)\n",
    "\n",
    "3) Исправлен тип данных в нескольких столбцах\n",
    "\n",
    "4) Обработаны дубликаты (данные приведены к общему виду с помощью замены регистра, лемматизации и категоризации данных).\n",
    "\n",
    "2. **Анализ взаимосвязей данных показал, что:**\n",
    "\n",
    "1) Процент возврата кредита в срок выше у людей не имеющих детей.\n",
    "\n",
    "2) Люди, у которых семейное положение \"Женат/замужем\", \"В разводе\" или которые оказались вдовой/вдовцом - чаще отдают кредит в срок, чем те, кто живет в гражданском браке или холосты.\n",
    "\n",
    "3) Люди, у которых уровень дохода выше 214 единиц, чаще других возвращают кредит в срок.\n",
    "\n",
    "4) Люди, берущие кредит на недвижимость, выплачивают его в срок чаще, чем те кто берет его на свадьбу, а те, кто берут его на свадьбу - выплачивают кредит вовремя чаще, чем те, кто берет кредит на образование или автомобиль.\n",
    "\n",
    "То есть все 4 рассмотренных в работе фактора влияют на возврат долга в банке, и их стоит учитывать в модели кредитного скоринга.\n",
    "\n",
    "\n",
    "\n"
   ]
  },
  {
   "cell_type": "code",
   "execution_count": null,
   "metadata": {
    "id": "3mZ3FAwmT5Ox"
   },
   "outputs": [],
   "source": []
  }
 ],
 "metadata": {
  "colab": {
   "collapsed_sections": [],
   "name": "Reliability_of_the_bank_borrowers(data preprocessing).ipynb",
   "provenance": []
  },
  "kernelspec": {
   "display_name": "Python 3",
   "language": "python",
   "name": "python3"
  },
  "language_info": {
   "codemirror_mode": {
    "name": "ipython",
    "version": 3
   },
   "file_extension": ".py",
   "mimetype": "text/x-python",
   "name": "python",
   "nbconvert_exporter": "python",
   "pygments_lexer": "ipython3",
   "version": "3.6.8"
  }
 },
 "nbformat": 4,
 "nbformat_minor": 1
}
