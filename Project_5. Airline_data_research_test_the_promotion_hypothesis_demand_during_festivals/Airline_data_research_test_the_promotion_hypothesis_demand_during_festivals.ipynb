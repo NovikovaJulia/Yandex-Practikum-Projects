{
 "cells": [
  {
   "cell_type": "markdown",
   "metadata": {},
   "source": [
    "<h2><center> Исследование данных авиакомпании </center></h2>"
   ]
  },
  {
   "cell_type": "markdown",
   "metadata": {},
   "source": [
    "## Оглавление\n",
    "* [Описание проекта](#first-bullet)\n",
    "* [Описание данных](#second-bullet)\n",
    "* [Пояснение](#third-bullet)\n",
    "* [Шаг 1. Парсинг данных](#fourth-bullet)\n",
    "* [Шаг 2. Исследовательский анализ данных (с помощью SQL)](#fifth-bullet)\n",
    "* [Шаг 3. Аналитика средствами Python](#sixth-bullet)"
   ]
  },
  {
   "cell_type": "markdown",
   "metadata": {},
   "source": [
    "## Описание проекта <a class=\"anchor\" id=\"first-bullet\"></a>"
   ]
  },
  {
   "cell_type": "markdown",
   "metadata": {},
   "source": [
    "«F9» — российская авиакомпания, выполняющая внутренние пассажирские авиаперевозки. Важно понять предпочтения пользователей, покупающих билеты на те или иные направления.\n",
    "Вам предстоит изучить базу данных и проанализировать спрос пассажиров на рейсы в города, где проходят крупнейшие фестивали."
   ]
  },
  {
   "cell_type": "markdown",
   "metadata": {},
   "source": [
    "#### Последовательность действий:"
   ]
  },
  {
   "cell_type": "markdown",
   "metadata": {},
   "source": [
    "#### Шаг 1. \n",
    "\n",
    "Написать парсер для сбора с сайта данных о 10 крупнейших фестивалях 2018 года\n",
    "\n",
    "Ссылка на сайт: https://code.s3.yandex.net/learning-materials/data-analyst/festival_news/index.html\n",
    "\n",
    "#### Шаг 2. Исследовательский анализ данных (SQL)\n",
    "\n",
    "Найти количество рейсов с вылетом в сентябре 2018 года на каждой модели самолёта. Назвать получившееся поле flights_amount и вывести его, также вывести поле model.\n",
    "Посчитать количество рейсов по всем моделям самолетов Boeing и Airbus в сентябре. Назвать получившуюся переменную flights_amount и вывести ее.\n",
    "Посчитать среднее количество прибывающих рейсов в день для каждого города за август 2018 года. Назвать получившееся поле average_flights , вместе с ней вывести столбец city.\n",
    "\n",
    "Установить фестивали, которые проходили с 23 июля по 30 сентября 2018 года в Москве, и номер недели, в которую они проходили. Вывести название фестиваля festival_name и номер недели festival_week.\n",
    "Для каждой недели с 23 июля по 30 сентября 2018 года посчитать количество билетов, купленных на рейсы в Москву (номер недели week_number и количество рейсов flights_amount). Получить таблицу, в которой будет информация о количестве купленных за неделю билетов, отметка, проходил ли в эту неделю фестиваль, название фестиваля festival_name и номер недели week_number.\n",
    "\n",
    "#### Шаг 3. Аналитика средствами Python\n",
    "\n",
    "Файлы, содержащие результаты запросов из предыдущих шагов:\n",
    "\n",
    "Колонки в *query_1.csv*:\n",
    "\n",
    "- `model` — модели самолета\n",
    "- `flights_amount` — количество рейсов для каждой модели самолетов model в сентябре 2018 года\n",
    "\n",
    "Колонки в *query_3.csv*:\n",
    "- `city` — городах\n",
    "- `average_flights` — среднем количестве рейсов, прибывающих в город city за день в августе 2018 года\n",
    "\n",
    "Для этих двух наборов данных нужно:\n",
    "- импортировать файлы;\n",
    "- изучить данные в них;\n",
    "- проверить типы данных на корректность;\n",
    "- выбрать топ-10 городов по количеству рейсов;\n",
    "- построить графики: модели самолетов и количество рейсов, города и количество рейсов, топ-10 городов и количество рейсов;\n",
    "- сделать выводы по каждому из графиков, пояснить результат."
   ]
  },
  {
   "cell_type": "markdown",
   "metadata": {},
   "source": [
    "## Описание данных <a class=\"anchor\" id=\"second-bullet\"></a>"
   ]
  },
  {
   "cell_type": "markdown",
   "metadata": {},
   "source": [
    "#### Таблица airports — информация об аэропортах:\n",
    "- `airport_code` — трёхбуквенный код аэропорта\n",
    "- `airport_name` — название аэропорта\n",
    "- `city` — город\n",
    "- `timezone` — временная зона\n",
    "\n",
    "#### Таблица aircrafts — информация о самолётах:\n",
    "- `aircraft_code` — код модели самолёта\n",
    "- `model` — модель самолёта\n",
    "- `range` — количество самолётов\n",
    "\n",
    "#### Таблица tickets — информация о билетах:\n",
    "- `ticket_no` — уникальный номер билета\n",
    "- `passenger_id` — персональный идентификатор пассажира\n",
    "- `passenger_name` — имя и фамилия пассажира\n",
    "\n",
    "#### Таблица flights — информация о рейсах:\n",
    "- `flight_id` — уникальный идентификатор рейса\n",
    "- `departure_airport` — аэропорт вылета\n",
    "- `departure_time` — дата и время вылета\n",
    "- `arrival_airport` — аэропорт прилёта\n",
    "- `arrival_time` — дата и время прилёта\n",
    "- `aircraft_code` – id самолёта\n",
    "\n",
    "#### Таблица ticket_flights — стыковая таблица «рейсы-билеты»\n",
    "- `ticket_no` — номер билета\n",
    "- `flight_id` — идентификатор рейса\n",
    "\n",
    "#### Таблица festivals — информация о фестивалях\n",
    "- `festival_id` — уникальный номер фестиваля\n",
    "- `festival_date` — дата проведения фестиваля\n",
    "- `festival_city` — город проведения фестиваля\n",
    "- `festival_name` — название фестиваля"
   ]
  },
  {
   "cell_type": "markdown",
   "metadata": {},
   "source": [
    "## Пояснение <a class=\"anchor\" id=\"third-bullet\"></a>"
   ]
  },
  {
   "cell_type": "markdown",
   "metadata": {},
   "source": [
    "Шаг 1 - написание парсера.\n",
    "\n",
    "Шаг 2 - SQL запросы к базе данных.\n",
    "\n",
    "Шаг 3 - использование результатов запросов для анализа."
   ]
  },
  {
   "cell_type": "markdown",
   "metadata": {},
   "source": [
    "## Шаг 1. Парсинг данных <a class=\"anchor\" id=\"fourth-bullet\"></a>"
   ]
  },
  {
   "cell_type": "markdown",
   "metadata": {},
   "source": [
    "Напишем парсер для сбора с сайта данных о 11 крупнейших фестивалях 2018 года. Сохраним данные в датафрейм festivals."
   ]
  },
  {
   "cell_type": "code",
   "execution_count": 2,
   "metadata": {},
   "outputs": [],
   "source": [
    "# import pandas as pd\n",
    "# import requests\n",
    "# from bs4 import BeautifulSoup\n",
    "\n",
    "# URL='https://code.s3.yandex.net/learning-materials/data-analyst/festival_news/index.html'\n",
    "# req = requests.get(URL)\n",
    "# soup = BeautifulSoup(req.text, 'lxml')\n",
    "\n",
    "# festival_name=[]\n",
    "# for row in soup.find_all('tr'):\n",
    "#     if not row.find_all('th'):\n",
    "#         festival_name.append([element.text for element in row.find_all('td')])\n",
    "# festivals = pd.DataFrame(festival_name, columns=['Название фестиваля', 'Место проведения', 'Дата проведения'])\n",
    "# print(festivals)"
   ]
  },
  {
   "cell_type": "markdown",
   "metadata": {},
   "source": [
    "## Шаг 2. Исследовательский анализ данных (с помощью SQL) <a class=\"anchor\" id=\"fifth-bullet\"></a>"
   ]
  },
  {
   "cell_type": "markdown",
   "metadata": {},
   "source": [
    "#### Схема таблиц"
   ]
  },
  {
   "cell_type": "markdown",
   "metadata": {},
   "source": [
    "<img src=\"database.jpg\">"
   ]
  },
  {
   "cell_type": "markdown",
   "metadata": {},
   "source": [
    "#### 2.1 Изучим таблицу airports и выведим список городов (city), в которых есть аэропорты."
   ]
  },
  {
   "cell_type": "code",
   "execution_count": 3,
   "metadata": {},
   "outputs": [],
   "source": [
    "# SELECT DISTINCT airports.city\n",
    "# FROM airports"
   ]
  },
  {
   "cell_type": "markdown",
   "metadata": {},
   "source": [
    "#### 2.2 Изучим таблицу flights и подсчитаем количество вылетов (flight_id) из каждого аэропорта вылета (departure_airport). Назовем эту переменную cnt_flights и выведим её вместе со столбцом departure_airport — сначала departure_airport, потом cnt_flights. Результат отсортируем в порядке убывания количества вылетов."
   ]
  },
  {
   "cell_type": "code",
   "execution_count": 4,
   "metadata": {},
   "outputs": [],
   "source": [
    "# SELECT\n",
    "#     flights.departure_airport AS departure_airport,\n",
    "#     COUNT(flights.flight_id) AS cnt_flights\n",
    "# FROM\n",
    "#     flights\n",
    "# GROUP BY\n",
    "#     departure_airport\n",
    "# ORDER BY \n",
    "#     COUNT(flights.flight_id) DESC"
   ]
  },
  {
   "cell_type": "markdown",
   "metadata": {},
   "source": [
    "#### 2.3 Найдем количество рейсов на каждой модели самолёта с вылетом в сентябре 2018 года. Назовем получившийся столбец flights_amount и выведем его, также столбец model."
   ]
  },
  {
   "cell_type": "code",
   "execution_count": 5,
   "metadata": {},
   "outputs": [],
   "source": [
    "# SELECT\n",
    "#      aircrafts.model AS model,\n",
    "#      COUNT(flights.flight_id) AS flights_amount\n",
    "# FROM \n",
    "#     flights\n",
    "# JOIN aircrafts ON aircrafts.aircraft_code = flights.aircraft_code\n",
    "# WHERE\n",
    "#     CAST(departure_time as date) between '2018-09-01' and '2018-09-30'\n",
    "# GROUP BY\n",
    "#     aircrafts.model"
   ]
  },
  {
   "cell_type": "markdown",
   "metadata": {},
   "source": [
    "#### 2.4 Посчитаем количество рейсов по всем моделям самолётов Boeing, Airbus и другим ('other') в сентябре. Типы моделей поместим в столбец type_aircraft, а количество рейсов — во flights_amount."
   ]
  },
  {
   "cell_type": "code",
   "execution_count": 6,
   "metadata": {},
   "outputs": [],
   "source": [
    "# SELECT\n",
    "#      COUNT(flights.flight_id) AS flights_amount\n",
    "# FROM \n",
    "#     flights\n",
    "# JOIN aircrafts ON aircrafts.aircraft_code = flights.aircraft_code\n",
    "# WHERE\n",
    "#     (aircrafts.model LIKE 'Boeing%' OR aircrafts.model LIKE 'Airbus%') AND CAST(departure_time as date) between '2018-09-01' and '2018-09-30'"
   ]
  },
  {
   "cell_type": "markdown",
   "metadata": {},
   "source": [
    "#### 2.5 Посчитаем среднее количество прибывающих рейсов в день для каждого города за август 2018 года. Назовем получившееся поле average_flights, вместе с ним выведем столбец city."
   ]
  },
  {
   "cell_type": "code",
   "execution_count": 7,
   "metadata": {},
   "outputs": [],
   "source": [
    "# SELECT\n",
    "#     SUBQ.city,\n",
    "#     AVG(SUBQ.cnt_flight) AS average_flights\n",
    "# FROM\n",
    "# (SELECT\n",
    "#     airports.city,\n",
    "#     COUNT(flights.flight_id) AS cnt_flight,\n",
    "#     EXTRACT(day FROM flights.arrival_time) AS day_number\n",
    "# FROM\n",
    "#     flights\n",
    "# JOIN airports ON airports.airport_code=flights.arrival_airport\n",
    "# WHERE\n",
    "#     CAST(flights.arrival_time AS date) BETWEEN '2018-08-01' AND '2018-08-31'\n",
    "# GROUP BY\n",
    "#     airports.city,\n",
    "#     day_number) AS SUBQ\n",
    "# GROUP BY\n",
    "#     SUBQ.city;"
   ]
  },
  {
   "cell_type": "markdown",
   "metadata": {},
   "source": [
    "#### 2.6 Установим какие фестивали проходили с 23 июля по 30 сентября 2018 года в Москве, и номер недели, в которую они проходили."
   ]
  },
  {
   "cell_type": "code",
   "execution_count": 8,
   "metadata": {},
   "outputs": [],
   "source": [
    "# SELECT\n",
    "#     festivals.festival_name,\n",
    "#     EXTRACT(week FROM festivals.festival_date) AS festival_week\n",
    "# FROM\n",
    "#     festivals\n",
    "# WHERE\n",
    "#     CAST(festival_date as date) BETWEEN '2018-07-23' AND '2018-09-30' AND festivals.festival_city = 'Москва'"
   ]
  },
  {
   "cell_type": "markdown",
   "metadata": {},
   "source": [
    "#### 2.7 Для каждой недели с 23 июля по 30 сентября 2018 года посчитаем количество билетов, купленных на рейсы в Москву (номер недели week_number и количество билетов ticket_amount). Получим таблицу, в которой будет информация о количестве купленных за неделю билетов; отметка, проходил ли в эту неделю фестиваль; название фестиваля festival_name и номер недели week_number."
   ]
  },
  {
   "cell_type": "code",
   "execution_count": 9,
   "metadata": {},
   "outputs": [],
   "source": [
    "# SELECT\n",
    "#     EXTRACT(week FROM arrival_time)  AS week_number,\n",
    "#     COUNT(ticket_flights.ticket_no) AS ticket_amount,\n",
    "#     subq.festival_week,\n",
    "#     subq.festival_name\n",
    "# FROM\n",
    "#     flights\n",
    "# JOIN ticket_flights ON ticket_flights.flight_id = flights.flight_id\n",
    "# JOIN airports ON flights.arrival_airport = airports.airport_code\n",
    " \n",
    "# LEFT JOIN (\n",
    "#     SELECT\n",
    "#         festival_name,\n",
    "#         EXTRACT(week FROM festival_date) AS festival_week\n",
    "#     FROM\n",
    "#         festivals\n",
    "#     WHERE CAST(festival_date AS DATE) BETWEEN '2018-07-23' AND '2018-09-30' AND festival_city ='Москва'\n",
    "#     ) AS subq\n",
    "#     ON subq.FESTIVAL_WEEK = EXTRACT(week FROM arrival_time)\n",
    " \n",
    "# WHERE CAST(arrival_time AS DATE) BETWEEN '2018-07-23' AND '2018-09-30' AND airports.city ='Москва'\n",
    "# GROUP BY\n",
    "# subq.festival_name,\n",
    "# subq.festival_week,\n",
    "# week_number\n",
    "# ORDER BY\n",
    "# week_number"
   ]
  },
  {
   "cell_type": "markdown",
   "metadata": {},
   "source": [
    "## Шаг 3. Аналитика средствами Python <a class=\"anchor\" id=\"sixth-bullet\"></a>"
   ]
  },
  {
   "cell_type": "markdown",
   "metadata": {},
   "source": [
    "Файлы, содержащие результаты запросов из предыдущих шагов:\n",
    "    \n",
    "Колонки в *query_1.csv*:\n",
    "\n",
    "- `model` — модели самолета\n",
    "- `flights_amount` — количество рейсов для каждой модели самолетов model в сентябре 2018 года\n",
    "\n",
    "Колонки в *query_3.csv*:\n",
    "- `city` — городах\n",
    "- `average_flights` — среднем количестве рейсов, прибывающих в город city за день в августе 2018 года\n",
    "\n",
    "Для этих двух наборов данных нужно:\n",
    "- импортировать файлы;\n",
    "- изучить данные в них;\n",
    "- проверить типы данных на корректность;\n",
    "- выбрать топ-10 городов по количеству рейсов;\n",
    "- построить графики: модели самолетов и количество рейсов, города и количество рейсов, топ-10 городов и количество рейсов;\n",
    "- сделать выводы по каждому из графиков, пояснить результат."
   ]
  },
  {
   "cell_type": "markdown",
   "metadata": {},
   "source": [
    "#### 3.1 Импортируем и изучим файлы для работы:"
   ]
  },
  {
   "cell_type": "code",
   "execution_count": 10,
   "metadata": {},
   "outputs": [],
   "source": [
    "import pandas as pd\n",
    "import matplotlib.pyplot as plt"
   ]
  },
  {
   "cell_type": "code",
   "execution_count": 11,
   "metadata": {},
   "outputs": [
    {
     "data": {
      "text/html": [
       "<div>\n",
       "<style scoped>\n",
       "    .dataframe tbody tr th:only-of-type {\n",
       "        vertical-align: middle;\n",
       "    }\n",
       "\n",
       "    .dataframe tbody tr th {\n",
       "        vertical-align: top;\n",
       "    }\n",
       "\n",
       "    .dataframe thead th {\n",
       "        text-align: right;\n",
       "    }\n",
       "</style>\n",
       "<table border=\"1\" class=\"dataframe\">\n",
       "  <thead>\n",
       "    <tr style=\"text-align: right;\">\n",
       "      <th></th>\n",
       "      <th>model</th>\n",
       "      <th>flights_amount</th>\n",
       "    </tr>\n",
       "  </thead>\n",
       "  <tbody>\n",
       "    <tr>\n",
       "      <th>0</th>\n",
       "      <td>Airbus A319-100</td>\n",
       "      <td>607</td>\n",
       "    </tr>\n",
       "    <tr>\n",
       "      <th>1</th>\n",
       "      <td>Airbus A321-200</td>\n",
       "      <td>960</td>\n",
       "    </tr>\n",
       "    <tr>\n",
       "      <th>2</th>\n",
       "      <td>Boeing 737-300</td>\n",
       "      <td>630</td>\n",
       "    </tr>\n",
       "    <tr>\n",
       "      <th>3</th>\n",
       "      <td>Boeing 767-300</td>\n",
       "      <td>600</td>\n",
       "    </tr>\n",
       "    <tr>\n",
       "      <th>4</th>\n",
       "      <td>Boeing 777-300</td>\n",
       "      <td>300</td>\n",
       "    </tr>\n",
       "  </tbody>\n",
       "</table>\n",
       "</div>"
      ],
      "text/plain": [
       "             model  flights_amount\n",
       "0  Airbus A319-100             607\n",
       "1  Airbus A321-200             960\n",
       "2   Boeing 737-300             630\n",
       "3   Boeing 767-300             600\n",
       "4   Boeing 777-300             300"
      ]
     },
     "execution_count": 11,
     "metadata": {},
     "output_type": "execute_result"
    }
   ],
   "source": [
    "query_1 = pd.read_csv('query_1.csv')\n",
    "query_1.head()"
   ]
  },
  {
   "cell_type": "code",
   "execution_count": 12,
   "metadata": {},
   "outputs": [
    {
     "name": "stdout",
     "output_type": "stream",
     "text": [
      "<class 'pandas.core.frame.DataFrame'>\n",
      "RangeIndex: 8 entries, 0 to 7\n",
      "Data columns (total 2 columns):\n",
      " #   Column          Non-Null Count  Dtype \n",
      "---  ------          --------------  ----- \n",
      " 0   model           8 non-null      object\n",
      " 1   flights_amount  8 non-null      int64 \n",
      "dtypes: int64(1), object(1)\n",
      "memory usage: 256.0+ bytes\n"
     ]
    }
   ],
   "source": [
    "query_1.info()"
   ]
  },
  {
   "cell_type": "code",
   "execution_count": 13,
   "metadata": {},
   "outputs": [
    {
     "data": {
      "text/html": [
       "<div>\n",
       "<style scoped>\n",
       "    .dataframe tbody tr th:only-of-type {\n",
       "        vertical-align: middle;\n",
       "    }\n",
       "\n",
       "    .dataframe tbody tr th {\n",
       "        vertical-align: top;\n",
       "    }\n",
       "\n",
       "    .dataframe thead th {\n",
       "        text-align: right;\n",
       "    }\n",
       "</style>\n",
       "<table border=\"1\" class=\"dataframe\">\n",
       "  <thead>\n",
       "    <tr style=\"text-align: right;\">\n",
       "      <th></th>\n",
       "      <th>city</th>\n",
       "      <th>average_flights</th>\n",
       "    </tr>\n",
       "  </thead>\n",
       "  <tbody>\n",
       "    <tr>\n",
       "      <th>0</th>\n",
       "      <td>Абакан</td>\n",
       "      <td>3.870968</td>\n",
       "    </tr>\n",
       "    <tr>\n",
       "      <th>1</th>\n",
       "      <td>Анадырь</td>\n",
       "      <td>1.000000</td>\n",
       "    </tr>\n",
       "    <tr>\n",
       "      <th>2</th>\n",
       "      <td>Анапа</td>\n",
       "      <td>2.161290</td>\n",
       "    </tr>\n",
       "    <tr>\n",
       "      <th>3</th>\n",
       "      <td>Архангельск</td>\n",
       "      <td>5.354839</td>\n",
       "    </tr>\n",
       "    <tr>\n",
       "      <th>4</th>\n",
       "      <td>Астрахань</td>\n",
       "      <td>2.451613</td>\n",
       "    </tr>\n",
       "  </tbody>\n",
       "</table>\n",
       "</div>"
      ],
      "text/plain": [
       "          city  average_flights\n",
       "0       Абакан         3.870968\n",
       "1      Анадырь         1.000000\n",
       "2        Анапа         2.161290\n",
       "3  Архангельск         5.354839\n",
       "4    Астрахань         2.451613"
      ]
     },
     "execution_count": 13,
     "metadata": {},
     "output_type": "execute_result"
    }
   ],
   "source": [
    "query_3 = pd.read_csv('query_3.csv')\n",
    "query_3.head()"
   ]
  },
  {
   "cell_type": "code",
   "execution_count": 14,
   "metadata": {},
   "outputs": [
    {
     "name": "stdout",
     "output_type": "stream",
     "text": [
      "<class 'pandas.core.frame.DataFrame'>\n",
      "RangeIndex: 101 entries, 0 to 100\n",
      "Data columns (total 2 columns):\n",
      " #   Column           Non-Null Count  Dtype  \n",
      "---  ------           --------------  -----  \n",
      " 0   city             101 non-null    object \n",
      " 1   average_flights  101 non-null    float64\n",
      "dtypes: float64(1), object(1)\n",
      "memory usage: 1.7+ KB\n"
     ]
    }
   ],
   "source": [
    "query_3.info()"
   ]
  },
  {
   "cell_type": "markdown",
   "metadata": {},
   "source": [
    "В таблицах нет пропусков и все типы данных определены корректно - можно начинать с ними работать."
   ]
  },
  {
   "cell_type": "markdown",
   "metadata": {},
   "source": [
    "#### 3.2 Найдем топ-10 городов по количеству рейсов"
   ]
  },
  {
   "cell_type": "code",
   "execution_count": 21,
   "metadata": {},
   "outputs": [
    {
     "data": {
      "text/html": [
       "<div>\n",
       "<style scoped>\n",
       "    .dataframe tbody tr th:only-of-type {\n",
       "        vertical-align: middle;\n",
       "    }\n",
       "\n",
       "    .dataframe tbody tr th {\n",
       "        vertical-align: top;\n",
       "    }\n",
       "\n",
       "    .dataframe thead th {\n",
       "        text-align: right;\n",
       "    }\n",
       "</style>\n",
       "<table border=\"1\" class=\"dataframe\">\n",
       "  <thead>\n",
       "    <tr style=\"text-align: right;\">\n",
       "      <th></th>\n",
       "      <th>city</th>\n",
       "      <th>average_flights</th>\n",
       "    </tr>\n",
       "  </thead>\n",
       "  <tbody>\n",
       "    <tr>\n",
       "      <th>43</th>\n",
       "      <td>Москва</td>\n",
       "      <td>129.774194</td>\n",
       "    </tr>\n",
       "    <tr>\n",
       "      <th>70</th>\n",
       "      <td>Санкт-Петербург</td>\n",
       "      <td>31.161290</td>\n",
       "    </tr>\n",
       "    <tr>\n",
       "      <th>54</th>\n",
       "      <td>Новосибирск</td>\n",
       "      <td>17.322581</td>\n",
       "    </tr>\n",
       "    <tr>\n",
       "      <th>33</th>\n",
       "      <td>Красноярск</td>\n",
       "      <td>11.580645</td>\n",
       "    </tr>\n",
       "    <tr>\n",
       "      <th>20</th>\n",
       "      <td>Екатеринбург</td>\n",
       "      <td>11.322581</td>\n",
       "    </tr>\n",
       "    <tr>\n",
       "      <th>67</th>\n",
       "      <td>Ростов-на-Дону</td>\n",
       "      <td>10.193548</td>\n",
       "    </tr>\n",
       "    <tr>\n",
       "      <th>63</th>\n",
       "      <td>Пермь</td>\n",
       "      <td>10.129032</td>\n",
       "    </tr>\n",
       "    <tr>\n",
       "      <th>10</th>\n",
       "      <td>Брянск</td>\n",
       "      <td>10.000000</td>\n",
       "    </tr>\n",
       "    <tr>\n",
       "      <th>74</th>\n",
       "      <td>Сочи</td>\n",
       "      <td>9.612903</td>\n",
       "    </tr>\n",
       "    <tr>\n",
       "      <th>84</th>\n",
       "      <td>Ульяновск</td>\n",
       "      <td>9.580645</td>\n",
       "    </tr>\n",
       "  </tbody>\n",
       "</table>\n",
       "</div>"
      ],
      "text/plain": [
       "               city  average_flights\n",
       "43           Москва       129.774194\n",
       "70  Санкт-Петербург        31.161290\n",
       "54      Новосибирск        17.322581\n",
       "33       Красноярск        11.580645\n",
       "20     Екатеринбург        11.322581\n",
       "67   Ростов-на-Дону        10.193548\n",
       "63            Пермь        10.129032\n",
       "10           Брянск        10.000000\n",
       "74             Сочи         9.612903\n",
       "84        Ульяновск         9.580645"
      ]
     },
     "execution_count": 21,
     "metadata": {},
     "output_type": "execute_result"
    }
   ],
   "source": [
    "top_10_cities = query_3.sort_values(['average_flights'],ascending=False).head(10)\n",
    "top_10_cities"
   ]
  },
  {
   "cell_type": "markdown",
   "metadata": {},
   "source": [
    "#### Построим графики:"
   ]
  },
  {
   "cell_type": "markdown",
   "metadata": {},
   "source": [
    "- модели самолетов и количество рейсов,\n",
    "- города и количество рейсов,\n",
    "- топ-10 городов и количество рейсов."
   ]
  },
  {
   "cell_type": "markdown",
   "metadata": {},
   "source": [
    "#### 3.3 Построим график отражающий кол-во рейсов в сентябре 2018 года по моделям самолетов."
   ]
  },
  {
   "cell_type": "code",
   "execution_count": 30,
   "metadata": {},
   "outputs": [
    {
     "data": {
      "image/png": "[encoded data removed]",
      "text/plain": [
       "<Figure size 1080x360 with 1 Axes>"
      ]
     },
     "metadata": {},
     "output_type": "display_data"
    }
   ],
   "source": [
    "fig, ax = plt.subplots(figsize=(15,5))\n",
    " \n",
    "sorted_query = query_1.sort_values(['flights_amount'])\n",
    "model = sorted_query['model']\n",
    "flights_amount = sorted_query['flights_amount']\n",
    " \n",
    "ax.barh(model, flights_amount, align='center')\n",
    "ax.set_xlabel('Количество рейсов')\n",
    "ax.set_title('Количество рейсов в сентябре 2018 года по моделям самолетов');"
   ]
  },
  {
   "cell_type": "markdown",
   "metadata": {},
   "source": [
    "Из графика видно, что больше всего рейсов на самолетах модели Sukhoi SuperJet-100, Cessna 208 Caravan, Bombardier CRJ-200 - количество полетов на этих моделях превышает 4000 за сентябрь 2018 года (что как минимум в 4 раза больше, чем на любой другой модели). \n",
    "Чуть меньше 1000 рейсов за этот месяц было выполнено на модели самолета Airbus A321-200. Примерно одинаковое количество (около 600 рейсов) было выполнено на моделях самолетов Airbus A319-100, Boeing 737-300, Boeing 767-300. И наименьшее количество полетов (300) приходится на модель Boeing 777-300."
   ]
  },
  {
   "cell_type": "markdown",
   "metadata": {},
   "source": [
    "#### 3.4 Теперь построим график отражающий среднее кол-во рейсов в августе 2018 года по городам."
   ]
  },
  {
   "cell_type": "code",
   "execution_count": 25,
   "metadata": {},
   "outputs": [
    {
     "data": {
      "text/html": [
       "<div>\n",
       "<style scoped>\n",
       "    .dataframe tbody tr th:only-of-type {\n",
       "        vertical-align: middle;\n",
       "    }\n",
       "\n",
       "    .dataframe tbody tr th {\n",
       "        vertical-align: top;\n",
       "    }\n",
       "\n",
       "    .dataframe thead th {\n",
       "        text-align: right;\n",
       "    }\n",
       "</style>\n",
       "<table border=\"1\" class=\"dataframe\">\n",
       "  <thead>\n",
       "    <tr style=\"text-align: right;\">\n",
       "      <th></th>\n",
       "      <th>city</th>\n",
       "      <th>average_flights</th>\n",
       "    </tr>\n",
       "  </thead>\n",
       "  <tbody>\n",
       "    <tr>\n",
       "      <th>43</th>\n",
       "      <td>Москва</td>\n",
       "      <td>129.774194</td>\n",
       "    </tr>\n",
       "    <tr>\n",
       "      <th>70</th>\n",
       "      <td>Санкт-Петербург</td>\n",
       "      <td>31.161290</td>\n",
       "    </tr>\n",
       "    <tr>\n",
       "      <th>54</th>\n",
       "      <td>Новосибирск</td>\n",
       "      <td>17.322581</td>\n",
       "    </tr>\n",
       "    <tr>\n",
       "      <th>33</th>\n",
       "      <td>Красноярск</td>\n",
       "      <td>11.580645</td>\n",
       "    </tr>\n",
       "    <tr>\n",
       "      <th>20</th>\n",
       "      <td>Екатеринбург</td>\n",
       "      <td>11.322581</td>\n",
       "    </tr>\n",
       "    <tr>\n",
       "      <th>...</th>\n",
       "      <td>...</td>\n",
       "      <td>...</td>\n",
       "    </tr>\n",
       "    <tr>\n",
       "      <th>22</th>\n",
       "      <td>Ижевск</td>\n",
       "      <td>1.000000</td>\n",
       "    </tr>\n",
       "    <tr>\n",
       "      <th>65</th>\n",
       "      <td>Петропавловск-Камчатский</td>\n",
       "      <td>1.000000</td>\n",
       "    </tr>\n",
       "    <tr>\n",
       "      <th>31</th>\n",
       "      <td>Комсомольск-на-Амуре</td>\n",
       "      <td>1.000000</td>\n",
       "    </tr>\n",
       "    <tr>\n",
       "      <th>58</th>\n",
       "      <td>Нягань</td>\n",
       "      <td>1.000000</td>\n",
       "    </tr>\n",
       "    <tr>\n",
       "      <th>49</th>\n",
       "      <td>Нефтеюганск</td>\n",
       "      <td>1.000000</td>\n",
       "    </tr>\n",
       "  </tbody>\n",
       "</table>\n",
       "<p>101 rows × 2 columns</p>\n",
       "</div>"
      ],
      "text/plain": [
       "                        city  average_flights\n",
       "43                    Москва       129.774194\n",
       "70           Санкт-Петербург        31.161290\n",
       "54               Новосибирск        17.322581\n",
       "33                Красноярск        11.580645\n",
       "20              Екатеринбург        11.322581\n",
       "..                       ...              ...\n",
       "22                    Ижевск         1.000000\n",
       "65  Петропавловск-Камчатский         1.000000\n",
       "31      Комсомольск-на-Амуре         1.000000\n",
       "58                    Нягань         1.000000\n",
       "49               Нефтеюганск         1.000000\n",
       "\n",
       "[101 rows x 2 columns]"
      ]
     },
     "execution_count": 25,
     "metadata": {},
     "output_type": "execute_result"
    }
   ],
   "source": [
    "average_flights"
   ]
  },
  {
   "cell_type": "code",
   "execution_count": 29,
   "metadata": {},
   "outputs": [
    {
     "data": {
      "image/png": "[encoded data removed]",
      "text/plain": [
       "<Figure size 1080x2160 with 1 Axes>"
      ]
     },
     "metadata": {},
     "output_type": "display_data"
    }
   ],
   "source": [
    "fig, ax = plt.subplots(figsize=(15,30))\n",
    "\n",
    "sorted_query = query_3.sort_values(['average_flights'])\n",
    "city = sorted_query['city']\n",
    "average_flights = sorted_query['average_flights']\n",
    " \n",
    "ax.barh(city, average_flights, align='center')\n",
    "ax.set_xlabel('Среднее количество рейсов')\n",
    "ax.set_title('Среднее количество прибывающих за день рейсов в августе 2018 года по городам')\n",
    "plt.show()"
   ]
  },
  {
   "cell_type": "markdown",
   "metadata": {},
   "source": [
    "Из данного графика видно как сильно выделяется Москва среди всех остальных городов по среднему кол-ву прибывающих в августе 2018 года рейсов - около 130 прибывающих рейсов за август 2018, в то время как в большинстве городов среднее кол-во прибывающих рейсов меньше 5. Также выделяется Санкт-Петербург, хотя там количество рейсов раз в 6 меньше, чем в Москве, около 10 рейсов и больше за август здесь только у таких городов как Екатеринбург, Красноярск, Новосибирск, Брянск, Пермь, Ростон-на-Дону, Сочи, Сургут, Ульяновск, Ханты-Мантыйск. Но также видно, что во многих городах России среднее количество прибывающих рейсов за август 2018 года равно одному."
   ]
  },
  {
   "cell_type": "markdown",
   "metadata": {},
   "source": [
    "#### 3.5 И наконец, построим среднее кол-во рейсов в августе 2018 года по городам отдельно в топ-10 городов по количеству рейсов. "
   ]
  },
  {
   "cell_type": "code",
   "execution_count": 31,
   "metadata": {},
   "outputs": [
    {
     "data": {
      "image/png": "[encoded data removed]",
      "text/plain": [
       "<Figure size 1080x360 with 1 Axes>"
      ]
     },
     "metadata": {},
     "output_type": "display_data"
    }
   ],
   "source": [
    "fig, ax = plt.subplots(figsize=(15,5))\n",
    "\n",
    "sorted_query = top_10_cities.sort_values(['average_flights'])\n",
    "top_cities = sorted_query['city']\n",
    "average_flights_top = sorted_query['average_flights']\n",
    " \n",
    "ax.barh(top_cities, average_flights_top, align='center')\n",
    "ax.set_xlabel('Среднее количество рейсов')\n",
    "ax.set_title('Среднее количество прибывающих за день рейсов в августе 2018 года по городам (ТОП-10)')\n",
    "plt.show()"
   ]
  },
  {
   "cell_type": "markdown",
   "metadata": {},
   "source": [
    "Из этого графика также видно разительное отличие Москвы от остальных городов, это можно объяснить тем, что в столицу прилетает много рейсов из других стран, и из многих других городов, в Перербурге кол-во зарубежных прилетающих самолетов значительно меньше. А в остальных городах скорее всего большая часть прибывающих рейсов - внутренние, и по шкале видно, что они остальные города из ТОП-10 довольно одинаковые по количеству прибывающих рейсов - их немного больше 10 в среднем по августу 2018."
   ]
  },
  {
   "cell_type": "markdown",
   "metadata": {},
   "source": [
    "#### Вывод"
   ]
  },
  {
   "cell_type": "markdown",
   "metadata": {},
   "source": [
    "- Больше всего перелетов в сентябре 2018 было совершено на самолетах модели Sukhoi SuperJet-100, Cessna 208 Caravan, Bombardier CRJ-200.\n",
    "- Кол-во прибывающих рейсов в разных городах можно разделить на группы: столица, северная столица, крупные города и маленькие города, количество прибывающих рейсов в них довольно сильно различается (больше 100 - около 30 - около 10 - около 1 соответственно).\n",
    "- Есть разительное отличие Москвы в среднем количестве полетов в августе 2018 от остальных городов, это можно объяснить тем, что в столицу прилетает много рейсов из других стран, и из многих других городов."
   ]
  },
  {
   "cell_type": "code",
   "execution_count": null,
   "metadata": {},
   "outputs": [],
   "source": []
  }
 ],
 "metadata": {
  "kernelspec": {
   "display_name": "Python 3",
   "language": "python",
   "name": "python3"
  },
  "language_info": {
   "codemirror_mode": {
    "name": "ipython",
    "version": 3
   },
   "file_extension": ".py",
   "mimetype": "text/x-python",
   "name": "python",
   "nbconvert_exporter": "python",
   "pygments_lexer": "ipython3",
   "version": "3.6.8"
  },
  "toc": {
   "base_numbering": 1,
   "nav_menu": {},
   "number_sections": true,
   "sideBar": true,
   "skip_h1_title": false,
   "title_cell": "Table of Contents",
   "title_sidebar": "Contents",
   "toc_cell": false,
   "toc_position": {},
   "toc_section_display": true,
   "toc_window_display": false
  }
 },
 "nbformat": 4,
 "nbformat_minor": 2
}
